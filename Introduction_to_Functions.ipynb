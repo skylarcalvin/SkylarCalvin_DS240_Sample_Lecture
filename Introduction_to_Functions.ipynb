{
 "cells": [
  {
   "cell_type": "markdown",
   "id": "8f4c9aa4",
   "metadata": {},
   "source": [
    "In this notebook I outline the basics of creating and using functions in Python. I will brefly describe what a function is, demonstrate a function's basic syntax, and then dive deep into function usage. The objective is for students to grasp the conept of how functions can be used to help organize and reuse their code."
   ]
  },
  {
   "cell_type": "markdown",
   "id": "86620b68",
   "metadata": {},
   "source": [
    "# Prerequisites"
   ]
  },
  {
   "cell_type": "markdown",
   "id": "a678f0c8",
   "metadata": {},
   "source": [
    "## Import the necessary packages."
   ]
  },
  {
   "cell_type": "markdown",
   "id": "d91bf4a5",
   "metadata": {},
   "source": [
    "First we will load the packages necessary to complete our demonstration. We will primarily be using the [Pandas](https://pandas.pydata.org/) package to help read in our data."
   ]
  },
  {
   "cell_type": "code",
   "execution_count": 1,
   "id": "6688015c",
   "metadata": {},
   "outputs": [],
   "source": [
    "import pandas as pd # For loading the CSV file into a dataframe."
   ]
  },
  {
   "cell_type": "markdown",
   "id": "851f6ee2",
   "metadata": {},
   "source": [
    "## Load some data."
   ]
  },
  {
   "cell_type": "markdown",
   "id": "6d935824",
   "metadata": {},
   "source": [
    "For this demonstration, we will be using the Titanic dataset, which is readily available on [Kaggle.com](https://www.kaggle.com/datasets/brendan45774/test-file?resource=download). This dataset details the manfest of the RMS Titannic. It contains passenger demographic information as well as information relating to the passenger's economic status. For the purposes of this demonstration we will focus on how a function works in relation to the dataset."
   ]
  },
  {
   "cell_type": "markdown",
   "id": "e28dfafa",
   "metadata": {},
   "source": [
    "To load the data we will read the titannic.csv file into dataframe using the Pandas package. We will cover dataframes later on in the course."
   ]
  },
  {
   "cell_type": "code",
   "execution_count": 2,
   "id": "a823d18a",
   "metadata": {},
   "outputs": [],
   "source": [
    "data = pd.read_csv('titanic.csv')"
   ]
  },
  {
   "cell_type": "markdown",
   "id": "e45e6970",
   "metadata": {},
   "source": [
    "Once we have our dataframe loaded let's inspect it briefly to get a sense of the collumns and rows. "
   ]
  },
  {
   "cell_type": "code",
   "execution_count": 3,
   "id": "ecd2770b",
   "metadata": {},
   "outputs": [
    {
     "data": {
      "text/html": [
       "<div>\n",
       "<style scoped>\n",
       "    .dataframe tbody tr th:only-of-type {\n",
       "        vertical-align: middle;\n",
       "    }\n",
       "\n",
       "    .dataframe tbody tr th {\n",
       "        vertical-align: top;\n",
       "    }\n",
       "\n",
       "    .dataframe thead th {\n",
       "        text-align: right;\n",
       "    }\n",
       "</style>\n",
       "<table border=\"1\" class=\"dataframe\">\n",
       "  <thead>\n",
       "    <tr style=\"text-align: right;\">\n",
       "      <th></th>\n",
       "      <th>PassengerId</th>\n",
       "      <th>Survived</th>\n",
       "      <th>Pclass</th>\n",
       "      <th>Name</th>\n",
       "      <th>Sex</th>\n",
       "      <th>Age</th>\n",
       "      <th>SibSp</th>\n",
       "      <th>Parch</th>\n",
       "      <th>Ticket</th>\n",
       "      <th>Fare</th>\n",
       "      <th>Cabin</th>\n",
       "      <th>Embarked</th>\n",
       "    </tr>\n",
       "  </thead>\n",
       "  <tbody>\n",
       "    <tr>\n",
       "      <th>0</th>\n",
       "      <td>892</td>\n",
       "      <td>0</td>\n",
       "      <td>3</td>\n",
       "      <td>Kelly, Mr. James</td>\n",
       "      <td>male</td>\n",
       "      <td>34.5</td>\n",
       "      <td>0</td>\n",
       "      <td>0</td>\n",
       "      <td>330911</td>\n",
       "      <td>7.8292</td>\n",
       "      <td>NaN</td>\n",
       "      <td>Q</td>\n",
       "    </tr>\n",
       "    <tr>\n",
       "      <th>1</th>\n",
       "      <td>893</td>\n",
       "      <td>1</td>\n",
       "      <td>3</td>\n",
       "      <td>Wilkes, Mrs. James (Ellen Needs)</td>\n",
       "      <td>female</td>\n",
       "      <td>47.0</td>\n",
       "      <td>1</td>\n",
       "      <td>0</td>\n",
       "      <td>363272</td>\n",
       "      <td>7.0000</td>\n",
       "      <td>NaN</td>\n",
       "      <td>S</td>\n",
       "    </tr>\n",
       "    <tr>\n",
       "      <th>2</th>\n",
       "      <td>894</td>\n",
       "      <td>0</td>\n",
       "      <td>2</td>\n",
       "      <td>Myles, Mr. Thomas Francis</td>\n",
       "      <td>male</td>\n",
       "      <td>62.0</td>\n",
       "      <td>0</td>\n",
       "      <td>0</td>\n",
       "      <td>240276</td>\n",
       "      <td>9.6875</td>\n",
       "      <td>NaN</td>\n",
       "      <td>Q</td>\n",
       "    </tr>\n",
       "    <tr>\n",
       "      <th>3</th>\n",
       "      <td>895</td>\n",
       "      <td>0</td>\n",
       "      <td>3</td>\n",
       "      <td>Wirz, Mr. Albert</td>\n",
       "      <td>male</td>\n",
       "      <td>27.0</td>\n",
       "      <td>0</td>\n",
       "      <td>0</td>\n",
       "      <td>315154</td>\n",
       "      <td>8.6625</td>\n",
       "      <td>NaN</td>\n",
       "      <td>S</td>\n",
       "    </tr>\n",
       "    <tr>\n",
       "      <th>4</th>\n",
       "      <td>896</td>\n",
       "      <td>1</td>\n",
       "      <td>3</td>\n",
       "      <td>Hirvonen, Mrs. Alexander (Helga E Lindqvist)</td>\n",
       "      <td>female</td>\n",
       "      <td>22.0</td>\n",
       "      <td>1</td>\n",
       "      <td>1</td>\n",
       "      <td>3101298</td>\n",
       "      <td>12.2875</td>\n",
       "      <td>NaN</td>\n",
       "      <td>S</td>\n",
       "    </tr>\n",
       "  </tbody>\n",
       "</table>\n",
       "</div>"
      ],
      "text/plain": [
       "   PassengerId  Survived  Pclass  \\\n",
       "0          892         0       3   \n",
       "1          893         1       3   \n",
       "2          894         0       2   \n",
       "3          895         0       3   \n",
       "4          896         1       3   \n",
       "\n",
       "                                           Name     Sex   Age  SibSp  Parch  \\\n",
       "0                              Kelly, Mr. James    male  34.5      0      0   \n",
       "1              Wilkes, Mrs. James (Ellen Needs)  female  47.0      1      0   \n",
       "2                     Myles, Mr. Thomas Francis    male  62.0      0      0   \n",
       "3                              Wirz, Mr. Albert    male  27.0      0      0   \n",
       "4  Hirvonen, Mrs. Alexander (Helga E Lindqvist)  female  22.0      1      1   \n",
       "\n",
       "    Ticket     Fare Cabin Embarked  \n",
       "0   330911   7.8292   NaN        Q  \n",
       "1   363272   7.0000   NaN        S  \n",
       "2   240276   9.6875   NaN        Q  \n",
       "3   315154   8.6625   NaN        S  \n",
       "4  3101298  12.2875   NaN        S  "
      ]
     },
     "execution_count": 3,
     "metadata": {},
     "output_type": "execute_result"
    }
   ],
   "source": [
    "data.head()"
   ]
  },
  {
   "cell_type": "code",
   "execution_count": 4,
   "id": "1edaee9e",
   "metadata": {
    "scrolled": true
   },
   "outputs": [
    {
     "data": {
      "text/html": [
       "<div>\n",
       "<style scoped>\n",
       "    .dataframe tbody tr th:only-of-type {\n",
       "        vertical-align: middle;\n",
       "    }\n",
       "\n",
       "    .dataframe tbody tr th {\n",
       "        vertical-align: top;\n",
       "    }\n",
       "\n",
       "    .dataframe thead th {\n",
       "        text-align: right;\n",
       "    }\n",
       "</style>\n",
       "<table border=\"1\" class=\"dataframe\">\n",
       "  <thead>\n",
       "    <tr style=\"text-align: right;\">\n",
       "      <th></th>\n",
       "      <th>PassengerId</th>\n",
       "      <th>Survived</th>\n",
       "      <th>Pclass</th>\n",
       "      <th>Name</th>\n",
       "      <th>Sex</th>\n",
       "      <th>Age</th>\n",
       "      <th>SibSp</th>\n",
       "      <th>Parch</th>\n",
       "      <th>Ticket</th>\n",
       "      <th>Fare</th>\n",
       "      <th>Cabin</th>\n",
       "      <th>Embarked</th>\n",
       "    </tr>\n",
       "  </thead>\n",
       "  <tbody>\n",
       "    <tr>\n",
       "      <th>413</th>\n",
       "      <td>1305</td>\n",
       "      <td>0</td>\n",
       "      <td>3</td>\n",
       "      <td>Spector, Mr. Woolf</td>\n",
       "      <td>male</td>\n",
       "      <td>NaN</td>\n",
       "      <td>0</td>\n",
       "      <td>0</td>\n",
       "      <td>A.5. 3236</td>\n",
       "      <td>8.0500</td>\n",
       "      <td>NaN</td>\n",
       "      <td>S</td>\n",
       "    </tr>\n",
       "    <tr>\n",
       "      <th>414</th>\n",
       "      <td>1306</td>\n",
       "      <td>1</td>\n",
       "      <td>1</td>\n",
       "      <td>Oliva y Ocana, Dona. Fermina</td>\n",
       "      <td>female</td>\n",
       "      <td>39.0</td>\n",
       "      <td>0</td>\n",
       "      <td>0</td>\n",
       "      <td>PC 17758</td>\n",
       "      <td>108.9000</td>\n",
       "      <td>C105</td>\n",
       "      <td>C</td>\n",
       "    </tr>\n",
       "    <tr>\n",
       "      <th>415</th>\n",
       "      <td>1307</td>\n",
       "      <td>0</td>\n",
       "      <td>3</td>\n",
       "      <td>Saether, Mr. Simon Sivertsen</td>\n",
       "      <td>male</td>\n",
       "      <td>38.5</td>\n",
       "      <td>0</td>\n",
       "      <td>0</td>\n",
       "      <td>SOTON/O.Q. 3101262</td>\n",
       "      <td>7.2500</td>\n",
       "      <td>NaN</td>\n",
       "      <td>S</td>\n",
       "    </tr>\n",
       "    <tr>\n",
       "      <th>416</th>\n",
       "      <td>1308</td>\n",
       "      <td>0</td>\n",
       "      <td>3</td>\n",
       "      <td>Ware, Mr. Frederick</td>\n",
       "      <td>male</td>\n",
       "      <td>NaN</td>\n",
       "      <td>0</td>\n",
       "      <td>0</td>\n",
       "      <td>359309</td>\n",
       "      <td>8.0500</td>\n",
       "      <td>NaN</td>\n",
       "      <td>S</td>\n",
       "    </tr>\n",
       "    <tr>\n",
       "      <th>417</th>\n",
       "      <td>1309</td>\n",
       "      <td>0</td>\n",
       "      <td>3</td>\n",
       "      <td>Peter, Master. Michael J</td>\n",
       "      <td>male</td>\n",
       "      <td>NaN</td>\n",
       "      <td>1</td>\n",
       "      <td>1</td>\n",
       "      <td>2668</td>\n",
       "      <td>22.3583</td>\n",
       "      <td>NaN</td>\n",
       "      <td>C</td>\n",
       "    </tr>\n",
       "  </tbody>\n",
       "</table>\n",
       "</div>"
      ],
      "text/plain": [
       "     PassengerId  Survived  Pclass                          Name     Sex  \\\n",
       "413         1305         0       3            Spector, Mr. Woolf    male   \n",
       "414         1306         1       1  Oliva y Ocana, Dona. Fermina  female   \n",
       "415         1307         0       3  Saether, Mr. Simon Sivertsen    male   \n",
       "416         1308         0       3           Ware, Mr. Frederick    male   \n",
       "417         1309         0       3      Peter, Master. Michael J    male   \n",
       "\n",
       "      Age  SibSp  Parch              Ticket      Fare Cabin Embarked  \n",
       "413   NaN      0      0           A.5. 3236    8.0500   NaN        S  \n",
       "414  39.0      0      0            PC 17758  108.9000  C105        C  \n",
       "415  38.5      0      0  SOTON/O.Q. 3101262    7.2500   NaN        S  \n",
       "416   NaN      0      0              359309    8.0500   NaN        S  \n",
       "417   NaN      1      1                2668   22.3583   NaN        C  "
      ]
     },
     "execution_count": 4,
     "metadata": {},
     "output_type": "execute_result"
    }
   ],
   "source": [
    "data.tail()"
   ]
  },
  {
   "cell_type": "markdown",
   "id": "1509e1fd",
   "metadata": {},
   "source": [
    "As we can see we now have our data in a neat, concise format. We are ready to dive in!"
   ]
  },
  {
   "cell_type": "markdown",
   "id": "4a63f071",
   "metadata": {},
   "source": [
    "# Function Fundamentals"
   ]
  },
  {
   "cell_type": "markdown",
   "id": "6609a8a2",
   "metadata": {},
   "source": [
    "At the bare minimum function is defined as a collection of related statements that perform a specific task. The code in a function is reusable, meaning it can be called repeatedly to produce the same result over and over again. Functions are a very useful component of the related concept of object oriented programming."
   ]
  },
  {
   "cell_type": "markdown",
   "id": "a06c93fa",
   "metadata": {},
   "source": [
    "## Basic Function Syntax"
   ]
  },
  {
   "cell_type": "markdown",
   "id": "7e731e3e",
   "metadata": {},
   "source": [
    "A function actually has seven parts, with some optional:\n",
    "    \n",
    "     1. The def keyword which marks the start of the function head.\n",
    "     2. A function name to identify the function with.\n",
    "     3. Optional parameters or arguments through which we pass values to a function.\n",
    "     4. A colon (:) to mark the end of the end of the function header.\n",
    "     5. An optional documentation string (commonly referred to as a docstring) to help describe what the function is doing.\n",
    "     6. One or more valid Python statements that make up the function body.\n",
    "     7. An optional return statement to return a value from the function. Note that there can be multiple return statements.\n",
    "     \n",
    "Here is what a function looks like."
   ]
  },
  {
   "cell_type": "code",
   "execution_count": 5,
   "id": "4d5d4dfd",
   "metadata": {},
   "outputs": [],
   "source": [
    "def functionName (parameter = 'test'):\n",
    "    '''\n",
    "    This is the docstring for this function.\n",
    "    It serves two purposes.\n",
    "        1. It describes what the function is doing.\n",
    "        2. It is what is displayed when the function is called with the \n",
    "            help function.\n",
    "            \n",
    "    This function capitolizes all characters in your sting.\n",
    "    '''\n",
    "    \n",
    "    ## Valid Python statements go here. ##\n",
    "    print('Converting ', parameter, ' to all caps!', sep = '')\n",
    "    \n",
    "    # We save the parameter string to a variable.\n",
    "    string = parameter\n",
    "    \n",
    "    # Lastly we return the variable value from the function in all caps.\n",
    "    return string.upper()"
   ]
  },
  {
   "cell_type": "markdown",
   "id": "282dbbf5",
   "metadata": {},
   "source": [
    "A couple of things to note here.\n",
    "\n",
    "Notice how the parameter has a string assigned to it. This is the default value of the parameter. If the function is called without a parameter specified, then the parameter will be assigned with its default value for that instance of the function run.\n",
    "\n",
    "The docstring is, while optional, used to provide information when calling the help function on your function. So it's generally best practice to include one along with regular comments in the statement section so that your code is readable and managable.\n",
    "\n",
    "Note how I passed the parameter to a variable in the function and then used that variable to manipulate the data contained therein. This is a standard method of passing data into your functions.\n",
    "\n",
    "Lastly, I return the capitolized version of the string that was passed into the function at the end. For usage, the function must be assigned to a variable for it to be output."
   ]
  },
  {
   "cell_type": "markdown",
   "id": "43c6ef18",
   "metadata": {},
   "source": [
    "If we wish, we can also have multiple parameters in the function."
   ]
  },
  {
   "cell_type": "code",
   "execution_count": 6,
   "id": "c49b8367",
   "metadata": {},
   "outputs": [],
   "source": [
    "def functionName2 (parameter = 'test', parameter2 = 'test2'):\n",
    "    '''\n",
    "    This is the docstring for this function.\n",
    "    It serves two purposes.\n",
    "        1. It describes what the function is doing.\n",
    "        2. It is what is displayed when the function is called with the \n",
    "            help function.\n",
    "            \n",
    "    This function capitolizes all characters in your sting.\n",
    "    '''\n",
    "    \n",
    "    ## Valid Python statements go here. ##\n",
    "    print('Converting ', parameter, ' to all caps!', sep = '')\n",
    "    \n",
    "    # We save the parameter string to a variable.\n",
    "    string = parameter\n",
    "    string2 = parameter2\n",
    "    \n",
    "    # Lastly we return the variable value from the function in all caps.\n",
    "    return string.upper(), string2"
   ]
  },
  {
   "cell_type": "markdown",
   "id": "e21a3e3f",
   "metadata": {},
   "source": [
    "## Function Usage"
   ]
  },
  {
   "cell_type": "markdown",
   "id": "25d061d3",
   "metadata": {},
   "source": [
    "Let's check out the documentation for the function."
   ]
  },
  {
   "cell_type": "code",
   "execution_count": 7,
   "id": "dd2c91ae",
   "metadata": {},
   "outputs": [
    {
     "name": "stdout",
     "output_type": "stream",
     "text": [
      "Help on function functionName in module __main__:\n",
      "\n",
      "functionName(parameter='test')\n",
      "    This is the docstring for this function.\n",
      "    It serves two purposes.\n",
      "        1. It describes what the function is doing.\n",
      "        2. It is what is displayed when the function is called with the \n",
      "            help function.\n",
      "            \n",
      "    This function capitolizes all characters in your sting.\n",
      "\n"
     ]
    }
   ],
   "source": [
    "help(functionName)"
   ]
  },
  {
   "cell_type": "markdown",
   "id": "15202b34",
   "metadata": {},
   "source": [
    "Notice that the function's docstring was displayed. This can be usedful in learning about a new function that you haven't used before. It's important to keep your functions well documented so other developers can pick up where you left off. This is part of that."
   ]
  },
  {
   "cell_type": "markdown",
   "id": "ea35fb39",
   "metadata": {},
   "source": [
    "Let's call the function WITHOUT a parameter."
   ]
  },
  {
   "cell_type": "code",
   "execution_count": 8,
   "id": "2706b744",
   "metadata": {},
   "outputs": [
    {
     "name": "stdout",
     "output_type": "stream",
     "text": [
      "Converting test to all caps!\n"
     ]
    },
    {
     "data": {
      "text/plain": [
       "'TEST'"
      ]
     },
     "execution_count": 8,
     "metadata": {},
     "output_type": "execute_result"
    }
   ],
   "source": [
    "functionName()"
   ]
  },
  {
   "cell_type": "markdown",
   "id": "427c6b70",
   "metadata": {},
   "source": [
    "Two things happened here. First, the default value was used for the parameter, and then passed through the function, outputting it in the console. Notice that I didn't assign it to a variable. Second, the contents of the print statement was printed out. What I am illustrating here is, that print can be very useful in diagnosing bfunction behavior."
   ]
  },
  {
   "cell_type": "markdown",
   "id": "9c0ebd50",
   "metadata": {},
   "source": [
    "Let's try it again, only this time I'm going to assign the value returned by the function to a variable, and then view that variable."
   ]
  },
  {
   "cell_type": "code",
   "execution_count": 9,
   "id": "43886507",
   "metadata": {},
   "outputs": [
    {
     "name": "stdout",
     "output_type": "stream",
     "text": [
      "Converting test to all caps!\n"
     ]
    },
    {
     "data": {
      "text/plain": [
       "'TEST'"
      ]
     },
     "execution_count": 9,
     "metadata": {},
     "output_type": "execute_result"
    }
   ],
   "source": [
    "variable = functionName()\n",
    "variable"
   ]
  },
  {
   "cell_type": "markdown",
   "id": "f44256db",
   "metadata": {},
   "source": [
    "Now we can call the variable in our code for reuse."
   ]
  },
  {
   "cell_type": "code",
   "execution_count": 10,
   "id": "d739888c",
   "metadata": {},
   "outputs": [
    {
     "name": "stdout",
     "output_type": "stream",
     "text": [
      "This is a TEST!\n"
     ]
    }
   ],
   "source": [
    "print('This is a ', variable, '!', sep = '')"
   ]
  },
  {
   "cell_type": "markdown",
   "id": "287f3335",
   "metadata": {},
   "source": [
    "We can also pass other values to the function."
   ]
  },
  {
   "cell_type": "code",
   "execution_count": 11,
   "id": "cd2b3e96",
   "metadata": {
    "scrolled": true
   },
   "outputs": [
    {
     "name": "stdout",
     "output_type": "stream",
     "text": [
      "Converting Sky to all caps!\n",
      "My name in all caps is, SKY.\n"
     ]
    }
   ],
   "source": [
    "variable2 = functionName('Sky')\n",
    "print('My name in all caps is, ', variable2, '.', sep = '')"
   ]
  },
  {
   "cell_type": "markdown",
   "id": "c4786074",
   "metadata": {},
   "source": [
    "Let's call our second function with two variables."
   ]
  },
  {
   "cell_type": "code",
   "execution_count": 12,
   "id": "fa8a3836",
   "metadata": {},
   "outputs": [
    {
     "name": "stdout",
     "output_type": "stream",
     "text": [
      "Converting foo to all caps!\n",
      "FOO\n",
      "bar\n"
     ]
    }
   ],
   "source": [
    "variable3, variable4 = functionName2('foo', 'bar')\n",
    "print(variable3)\n",
    "print(variable4)"
   ]
  },
  {
   "cell_type": "markdown",
   "id": "23b9908e",
   "metadata": {},
   "source": [
    "Note how we were able to pass in two strings, and return two values."
   ]
  },
  {
   "cell_type": "markdown",
   "id": "7c53bb9e",
   "metadata": {},
   "source": [
    "The point is, functions are a very convenient means of performing repetative tasks efficiently."
   ]
  },
  {
   "cell_type": "markdown",
   "id": "6a3b46b2",
   "metadata": {},
   "source": [
    "## Scope"
   ]
  },
  {
   "cell_type": "markdown",
   "id": "ff978289",
   "metadata": {},
   "source": [
    "Let's now, briefly talk about scope in relation to function variables. In Python, variables can have two different layers of scope: Global and Local."
   ]
  },
  {
   "cell_type": "markdown",
   "id": "4ff9a499",
   "metadata": {},
   "source": [
    "Variables in the global scope are callable through out the environment. This includes inside functions and other objects. Local scope is different in that variables with local scope are only callable from within the object they are contained in. I will illustrate this for you."
   ]
  },
  {
   "cell_type": "markdown",
   "id": "74649973",
   "metadata": {},
   "source": [
    "Let's define a global variable."
   ]
  },
  {
   "cell_type": "code",
   "execution_count": 13,
   "id": "6a127a5e",
   "metadata": {},
   "outputs": [],
   "source": [
    "x = 300"
   ]
  },
  {
   "cell_type": "markdown",
   "id": "50aadb8e",
   "metadata": {},
   "source": [
    "Calling x we can see it's availibiliy in the environment."
   ]
  },
  {
   "cell_type": "code",
   "execution_count": 14,
   "id": "145c59db",
   "metadata": {},
   "outputs": [
    {
     "name": "stdout",
     "output_type": "stream",
     "text": [
      "300\n"
     ]
    }
   ],
   "source": [
    "print(x)"
   ]
  },
  {
   "cell_type": "markdown",
   "id": "85ed312a",
   "metadata": {},
   "source": [
    "Now I'm going to define a function and pass in my global variable x. Inside my function, I will also assign a local variable."
   ]
  },
  {
   "cell_type": "code",
   "execution_count": 15,
   "id": "98a8aef4",
   "metadata": {},
   "outputs": [],
   "source": [
    "def plusFive(x):\n",
    "    '''\n",
    "    This sample function takes the integer in from the x variable, and adds five to it.\n",
    "    '''\n",
    "    \n",
    "    # Now let's define a local variable.\n",
    "    y = 5\n",
    "    \n",
    "    # Add y to x.\n",
    "    return x + y"
   ]
  },
  {
   "cell_type": "markdown",
   "id": "fa2bd607",
   "metadata": {},
   "source": [
    "Now let's call our function with the x varable and see what the result is."
   ]
  },
  {
   "cell_type": "code",
   "execution_count": 16,
   "id": "42d05d6c",
   "metadata": {},
   "outputs": [
    {
     "name": "stdout",
     "output_type": "stream",
     "text": [
      "305\n"
     ]
    }
   ],
   "source": [
    "result = plusFive(x)\n",
    "print(result)"
   ]
  },
  {
   "cell_type": "markdown",
   "id": "d57f5a46",
   "metadata": {},
   "source": [
    "Here we've demonstrated that we can pass our global variable x to the local scope insode our function. What will happen if we now try to call our local variable y from the global environment?"
   ]
  },
  {
   "cell_type": "code",
   "execution_count": 17,
   "id": "7685996f",
   "metadata": {},
   "outputs": [
    {
     "name": "stdout",
     "output_type": "stream",
     "text": [
      "Local variable y wasn't found in the global scope.\n"
     ]
    }
   ],
   "source": [
    "try:\n",
    "    \n",
    "    print(y)\n",
    "\n",
    "except:\n",
    "    \n",
    "    print(\"Local variable y wasn't found in the global scope.\")"
   ]
  },
  {
   "cell_type": "markdown",
   "id": "14c46bab",
   "metadata": {},
   "source": [
    "We can see how the variables we define inside of functions can't be called from outside the object."
   ]
  },
  {
   "cell_type": "markdown",
   "id": "7bf45b94",
   "metadata": {},
   "source": [
    "# Practical Function Demonstration."
   ]
  },
  {
   "cell_type": "markdown",
   "id": "09d9e433",
   "metadata": {},
   "source": [
    "We will now shift to a real demonstration of how useful functions are. We will use the Titannic dataset that we loaded into a dataframe earlier. Let's for a minute see what we can do with this dataset WITHOUT  a function."
   ]
  },
  {
   "cell_type": "markdown",
   "id": "3c461601",
   "metadata": {},
   "source": [
    "Let's we want to concatenate together some columns. So we do so for a few rows like so."
   ]
  },
  {
   "cell_type": "code",
   "execution_count": 18,
   "id": "91da51c8",
   "metadata": {},
   "outputs": [
    {
     "data": {
      "text/plain": [
       "'Wilkes, Mrs. James (Ellen Needs) | female | 47.0 years old. | '"
      ]
     },
     "execution_count": 18,
     "metadata": {},
     "output_type": "execute_result"
    }
   ],
   "source": [
    "concat1 = data['Name'][1] + ' | ' + data['Sex'][1] + ' | ' + str(data['Age'][1]) + ' years old. | '\n",
    "concat1"
   ]
  },
  {
   "cell_type": "code",
   "execution_count": 19,
   "id": "0d37b650",
   "metadata": {},
   "outputs": [
    {
     "data": {
      "text/plain": [
       "'Myles, Mr. Thomas Francis | male | 62.0 years old. | '"
      ]
     },
     "execution_count": 19,
     "metadata": {},
     "output_type": "execute_result"
    }
   ],
   "source": [
    "concat2 = data['Name'][2] + ' | ' + data['Sex'][2] + ' | ' + str(data['Age'][2]) + ' years old. | '\n",
    "concat2"
   ]
  },
  {
   "cell_type": "code",
   "execution_count": 20,
   "id": "6eb78ba0",
   "metadata": {},
   "outputs": [
    {
     "data": {
      "text/plain": [
       "'Wirz, Mr. Albert | male | 27.0 years old. | '"
      ]
     },
     "execution_count": 20,
     "metadata": {},
     "output_type": "execute_result"
    }
   ],
   "source": [
    "concat3 = data['Name'][3] + ' | ' + data['Sex'][3] + ' | ' + str(data['Age'][3]) + ' years old. | '\n",
    "concat3"
   ]
  },
  {
   "cell_type": "markdown",
   "id": "9dbb63c0",
   "metadata": {},
   "source": [
    "As we can see, while this is certainly doable, it is slightly tedious in nature. We have repeated our code three times manually to produce the same result. Let's see if we can arrive at the same result with a function."
   ]
  },
  {
   "cell_type": "code",
   "execution_count": 21,
   "id": "a5cbdffc",
   "metadata": {},
   "outputs": [],
   "source": [
    "def concatColumns (row):\n",
    "    '''\n",
    "    This function concatenates several rows together into a sting.\n",
    "    \n",
    "    Parameters:\n",
    "        row = The row in the dataframe that is being concatenated.\n",
    "    '''\n",
    "    \n",
    "    \n",
    "    string = row[4] + ' | ' + row[5] + ' | ' + str(row[6]) + ' years old.'\n",
    "    \n",
    "    print(string)"
   ]
  },
  {
   "cell_type": "markdown",
   "id": "3c7cee9a",
   "metadata": {},
   "source": [
    "Now that we have our process canned into a function, let's see what it can do."
   ]
  },
  {
   "cell_type": "markdown",
   "id": "7920724f",
   "metadata": {},
   "source": [
    "For demonstration purposes, we will take a small subset of the data, say 20 rows. We will use a for loop on the dataframe and process each row using our function."
   ]
  },
  {
   "cell_type": "code",
   "execution_count": 22,
   "id": "3c6b3c8b",
   "metadata": {},
   "outputs": [],
   "source": [
    "subset = data.sample(n = 20)"
   ]
  },
  {
   "cell_type": "code",
   "execution_count": 23,
   "id": "e540a55c",
   "metadata": {},
   "outputs": [
    {
     "data": {
      "text/html": [
       "<div>\n",
       "<style scoped>\n",
       "    .dataframe tbody tr th:only-of-type {\n",
       "        vertical-align: middle;\n",
       "    }\n",
       "\n",
       "    .dataframe tbody tr th {\n",
       "        vertical-align: top;\n",
       "    }\n",
       "\n",
       "    .dataframe thead th {\n",
       "        text-align: right;\n",
       "    }\n",
       "</style>\n",
       "<table border=\"1\" class=\"dataframe\">\n",
       "  <thead>\n",
       "    <tr style=\"text-align: right;\">\n",
       "      <th></th>\n",
       "      <th>PassengerId</th>\n",
       "      <th>Survived</th>\n",
       "      <th>Pclass</th>\n",
       "      <th>Name</th>\n",
       "      <th>Sex</th>\n",
       "      <th>Age</th>\n",
       "      <th>SibSp</th>\n",
       "      <th>Parch</th>\n",
       "      <th>Ticket</th>\n",
       "      <th>Fare</th>\n",
       "      <th>Cabin</th>\n",
       "      <th>Embarked</th>\n",
       "    </tr>\n",
       "  </thead>\n",
       "  <tbody>\n",
       "    <tr>\n",
       "      <th>312</th>\n",
       "      <td>1204</td>\n",
       "      <td>0</td>\n",
       "      <td>3</td>\n",
       "      <td>Sadowitz, Mr. Harry</td>\n",
       "      <td>male</td>\n",
       "      <td>NaN</td>\n",
       "      <td>0</td>\n",
       "      <td>0</td>\n",
       "      <td>LP 1588</td>\n",
       "      <td>7.5750</td>\n",
       "      <td>NaN</td>\n",
       "      <td>S</td>\n",
       "    </tr>\n",
       "    <tr>\n",
       "      <th>377</th>\n",
       "      <td>1269</td>\n",
       "      <td>0</td>\n",
       "      <td>2</td>\n",
       "      <td>Cotterill, Mr. Henry Harry\"\"</td>\n",
       "      <td>male</td>\n",
       "      <td>21.0</td>\n",
       "      <td>0</td>\n",
       "      <td>0</td>\n",
       "      <td>29107</td>\n",
       "      <td>11.5000</td>\n",
       "      <td>NaN</td>\n",
       "      <td>S</td>\n",
       "    </tr>\n",
       "    <tr>\n",
       "      <th>62</th>\n",
       "      <td>954</td>\n",
       "      <td>0</td>\n",
       "      <td>3</td>\n",
       "      <td>Bjorklund, Mr. Ernst Herbert</td>\n",
       "      <td>male</td>\n",
       "      <td>18.0</td>\n",
       "      <td>0</td>\n",
       "      <td>0</td>\n",
       "      <td>347090</td>\n",
       "      <td>7.7500</td>\n",
       "      <td>NaN</td>\n",
       "      <td>S</td>\n",
       "    </tr>\n",
       "    <tr>\n",
       "      <th>198</th>\n",
       "      <td>1090</td>\n",
       "      <td>0</td>\n",
       "      <td>2</td>\n",
       "      <td>Baimbrigge, Mr. Charles Robert</td>\n",
       "      <td>male</td>\n",
       "      <td>23.0</td>\n",
       "      <td>0</td>\n",
       "      <td>0</td>\n",
       "      <td>C.A. 31030</td>\n",
       "      <td>10.5000</td>\n",
       "      <td>NaN</td>\n",
       "      <td>S</td>\n",
       "    </tr>\n",
       "    <tr>\n",
       "      <th>21</th>\n",
       "      <td>913</td>\n",
       "      <td>0</td>\n",
       "      <td>3</td>\n",
       "      <td>Olsen, Master. Artur Karl</td>\n",
       "      <td>male</td>\n",
       "      <td>9.0</td>\n",
       "      <td>0</td>\n",
       "      <td>1</td>\n",
       "      <td>C 17368</td>\n",
       "      <td>3.1708</td>\n",
       "      <td>NaN</td>\n",
       "      <td>S</td>\n",
       "    </tr>\n",
       "    <tr>\n",
       "      <th>228</th>\n",
       "      <td>1120</td>\n",
       "      <td>0</td>\n",
       "      <td>3</td>\n",
       "      <td>Everett, Mr. Thomas James</td>\n",
       "      <td>male</td>\n",
       "      <td>40.5</td>\n",
       "      <td>0</td>\n",
       "      <td>0</td>\n",
       "      <td>C.A. 6212</td>\n",
       "      <td>15.1000</td>\n",
       "      <td>NaN</td>\n",
       "      <td>S</td>\n",
       "    </tr>\n",
       "    <tr>\n",
       "      <th>266</th>\n",
       "      <td>1158</td>\n",
       "      <td>0</td>\n",
       "      <td>1</td>\n",
       "      <td>Chisholm, Mr. Roderick Robert Crispin</td>\n",
       "      <td>male</td>\n",
       "      <td>NaN</td>\n",
       "      <td>0</td>\n",
       "      <td>0</td>\n",
       "      <td>112051</td>\n",
       "      <td>0.0000</td>\n",
       "      <td>NaN</td>\n",
       "      <td>S</td>\n",
       "    </tr>\n",
       "    <tr>\n",
       "      <th>315</th>\n",
       "      <td>1207</td>\n",
       "      <td>1</td>\n",
       "      <td>3</td>\n",
       "      <td>Hagardon, Miss. Kate</td>\n",
       "      <td>female</td>\n",
       "      <td>17.0</td>\n",
       "      <td>0</td>\n",
       "      <td>0</td>\n",
       "      <td>AQ/3. 30631</td>\n",
       "      <td>7.7333</td>\n",
       "      <td>NaN</td>\n",
       "      <td>Q</td>\n",
       "    </tr>\n",
       "    <tr>\n",
       "      <th>110</th>\n",
       "      <td>1002</td>\n",
       "      <td>0</td>\n",
       "      <td>2</td>\n",
       "      <td>Stanton, Mr. Samuel Ward</td>\n",
       "      <td>male</td>\n",
       "      <td>41.0</td>\n",
       "      <td>0</td>\n",
       "      <td>0</td>\n",
       "      <td>237734</td>\n",
       "      <td>15.0458</td>\n",
       "      <td>NaN</td>\n",
       "      <td>C</td>\n",
       "    </tr>\n",
       "    <tr>\n",
       "      <th>106</th>\n",
       "      <td>998</td>\n",
       "      <td>0</td>\n",
       "      <td>3</td>\n",
       "      <td>Buckley, Mr. Daniel</td>\n",
       "      <td>male</td>\n",
       "      <td>21.0</td>\n",
       "      <td>0</td>\n",
       "      <td>0</td>\n",
       "      <td>330920</td>\n",
       "      <td>7.8208</td>\n",
       "      <td>NaN</td>\n",
       "      <td>Q</td>\n",
       "    </tr>\n",
       "    <tr>\n",
       "      <th>199</th>\n",
       "      <td>1091</td>\n",
       "      <td>1</td>\n",
       "      <td>3</td>\n",
       "      <td>Rasmussen, Mrs. (Lena Jacobsen Solvang)</td>\n",
       "      <td>female</td>\n",
       "      <td>NaN</td>\n",
       "      <td>0</td>\n",
       "      <td>0</td>\n",
       "      <td>65305</td>\n",
       "      <td>8.1125</td>\n",
       "      <td>NaN</td>\n",
       "      <td>S</td>\n",
       "    </tr>\n",
       "    <tr>\n",
       "      <th>161</th>\n",
       "      <td>1053</td>\n",
       "      <td>0</td>\n",
       "      <td>3</td>\n",
       "      <td>Touma, Master. Georges Youssef</td>\n",
       "      <td>male</td>\n",
       "      <td>7.0</td>\n",
       "      <td>1</td>\n",
       "      <td>1</td>\n",
       "      <td>2650</td>\n",
       "      <td>15.2458</td>\n",
       "      <td>NaN</td>\n",
       "      <td>C</td>\n",
       "    </tr>\n",
       "    <tr>\n",
       "      <th>145</th>\n",
       "      <td>1037</td>\n",
       "      <td>0</td>\n",
       "      <td>3</td>\n",
       "      <td>Vander Planke, Mr. Julius</td>\n",
       "      <td>male</td>\n",
       "      <td>31.0</td>\n",
       "      <td>3</td>\n",
       "      <td>0</td>\n",
       "      <td>345763</td>\n",
       "      <td>18.0000</td>\n",
       "      <td>NaN</td>\n",
       "      <td>S</td>\n",
       "    </tr>\n",
       "    <tr>\n",
       "      <th>336</th>\n",
       "      <td>1228</td>\n",
       "      <td>0</td>\n",
       "      <td>2</td>\n",
       "      <td>de Brito, Mr. Jose Joaquim</td>\n",
       "      <td>male</td>\n",
       "      <td>32.0</td>\n",
       "      <td>0</td>\n",
       "      <td>0</td>\n",
       "      <td>244360</td>\n",
       "      <td>13.0000</td>\n",
       "      <td>NaN</td>\n",
       "      <td>S</td>\n",
       "    </tr>\n",
       "    <tr>\n",
       "      <th>186</th>\n",
       "      <td>1078</td>\n",
       "      <td>1</td>\n",
       "      <td>2</td>\n",
       "      <td>Phillips, Miss. Alice Frances Louisa</td>\n",
       "      <td>female</td>\n",
       "      <td>21.0</td>\n",
       "      <td>0</td>\n",
       "      <td>1</td>\n",
       "      <td>S.O./P.P. 2</td>\n",
       "      <td>21.0000</td>\n",
       "      <td>NaN</td>\n",
       "      <td>S</td>\n",
       "    </tr>\n",
       "    <tr>\n",
       "      <th>291</th>\n",
       "      <td>1183</td>\n",
       "      <td>1</td>\n",
       "      <td>3</td>\n",
       "      <td>Daly, Miss. Margaret Marcella Maggie\"\"</td>\n",
       "      <td>female</td>\n",
       "      <td>30.0</td>\n",
       "      <td>0</td>\n",
       "      <td>0</td>\n",
       "      <td>382650</td>\n",
       "      <td>6.9500</td>\n",
       "      <td>NaN</td>\n",
       "      <td>Q</td>\n",
       "    </tr>\n",
       "    <tr>\n",
       "      <th>54</th>\n",
       "      <td>946</td>\n",
       "      <td>0</td>\n",
       "      <td>2</td>\n",
       "      <td>Mangiavacchi, Mr. Serafino Emilio</td>\n",
       "      <td>male</td>\n",
       "      <td>NaN</td>\n",
       "      <td>0</td>\n",
       "      <td>0</td>\n",
       "      <td>SC/A.3 2861</td>\n",
       "      <td>15.5792</td>\n",
       "      <td>NaN</td>\n",
       "      <td>C</td>\n",
       "    </tr>\n",
       "    <tr>\n",
       "      <th>6</th>\n",
       "      <td>898</td>\n",
       "      <td>1</td>\n",
       "      <td>3</td>\n",
       "      <td>Connolly, Miss. Kate</td>\n",
       "      <td>female</td>\n",
       "      <td>30.0</td>\n",
       "      <td>0</td>\n",
       "      <td>0</td>\n",
       "      <td>330972</td>\n",
       "      <td>7.6292</td>\n",
       "      <td>NaN</td>\n",
       "      <td>Q</td>\n",
       "    </tr>\n",
       "    <tr>\n",
       "      <th>112</th>\n",
       "      <td>1004</td>\n",
       "      <td>1</td>\n",
       "      <td>1</td>\n",
       "      <td>Evans, Miss. Edith Corse</td>\n",
       "      <td>female</td>\n",
       "      <td>36.0</td>\n",
       "      <td>0</td>\n",
       "      <td>0</td>\n",
       "      <td>PC 17531</td>\n",
       "      <td>31.6792</td>\n",
       "      <td>A29</td>\n",
       "      <td>C</td>\n",
       "    </tr>\n",
       "    <tr>\n",
       "      <th>121</th>\n",
       "      <td>1013</td>\n",
       "      <td>0</td>\n",
       "      <td>3</td>\n",
       "      <td>Kiernan, Mr. John</td>\n",
       "      <td>male</td>\n",
       "      <td>NaN</td>\n",
       "      <td>1</td>\n",
       "      <td>0</td>\n",
       "      <td>367227</td>\n",
       "      <td>7.7500</td>\n",
       "      <td>NaN</td>\n",
       "      <td>Q</td>\n",
       "    </tr>\n",
       "  </tbody>\n",
       "</table>\n",
       "</div>"
      ],
      "text/plain": [
       "     PassengerId  Survived  Pclass                                     Name  \\\n",
       "312         1204         0       3                      Sadowitz, Mr. Harry   \n",
       "377         1269         0       2             Cotterill, Mr. Henry Harry\"\"   \n",
       "62           954         0       3             Bjorklund, Mr. Ernst Herbert   \n",
       "198         1090         0       2           Baimbrigge, Mr. Charles Robert   \n",
       "21           913         0       3                Olsen, Master. Artur Karl   \n",
       "228         1120         0       3                Everett, Mr. Thomas James   \n",
       "266         1158         0       1    Chisholm, Mr. Roderick Robert Crispin   \n",
       "315         1207         1       3                     Hagardon, Miss. Kate   \n",
       "110         1002         0       2                 Stanton, Mr. Samuel Ward   \n",
       "106          998         0       3                      Buckley, Mr. Daniel   \n",
       "199         1091         1       3  Rasmussen, Mrs. (Lena Jacobsen Solvang)   \n",
       "161         1053         0       3           Touma, Master. Georges Youssef   \n",
       "145         1037         0       3                Vander Planke, Mr. Julius   \n",
       "336         1228         0       2               de Brito, Mr. Jose Joaquim   \n",
       "186         1078         1       2     Phillips, Miss. Alice Frances Louisa   \n",
       "291         1183         1       3   Daly, Miss. Margaret Marcella Maggie\"\"   \n",
       "54           946         0       2        Mangiavacchi, Mr. Serafino Emilio   \n",
       "6            898         1       3                     Connolly, Miss. Kate   \n",
       "112         1004         1       1                 Evans, Miss. Edith Corse   \n",
       "121         1013         0       3                        Kiernan, Mr. John   \n",
       "\n",
       "        Sex   Age  SibSp  Parch       Ticket     Fare Cabin Embarked  \n",
       "312    male   NaN      0      0      LP 1588   7.5750   NaN        S  \n",
       "377    male  21.0      0      0        29107  11.5000   NaN        S  \n",
       "62     male  18.0      0      0       347090   7.7500   NaN        S  \n",
       "198    male  23.0      0      0   C.A. 31030  10.5000   NaN        S  \n",
       "21     male   9.0      0      1      C 17368   3.1708   NaN        S  \n",
       "228    male  40.5      0      0    C.A. 6212  15.1000   NaN        S  \n",
       "266    male   NaN      0      0       112051   0.0000   NaN        S  \n",
       "315  female  17.0      0      0  AQ/3. 30631   7.7333   NaN        Q  \n",
       "110    male  41.0      0      0       237734  15.0458   NaN        C  \n",
       "106    male  21.0      0      0       330920   7.8208   NaN        Q  \n",
       "199  female   NaN      0      0        65305   8.1125   NaN        S  \n",
       "161    male   7.0      1      1         2650  15.2458   NaN        C  \n",
       "145    male  31.0      3      0       345763  18.0000   NaN        S  \n",
       "336    male  32.0      0      0       244360  13.0000   NaN        S  \n",
       "186  female  21.0      0      1  S.O./P.P. 2  21.0000   NaN        S  \n",
       "291  female  30.0      0      0       382650   6.9500   NaN        Q  \n",
       "54     male   NaN      0      0  SC/A.3 2861  15.5792   NaN        C  \n",
       "6    female  30.0      0      0       330972   7.6292   NaN        Q  \n",
       "112  female  36.0      0      0     PC 17531  31.6792   A29        C  \n",
       "121    male   NaN      1      0       367227   7.7500   NaN        Q  "
      ]
     },
     "execution_count": 23,
     "metadata": {},
     "output_type": "execute_result"
    }
   ],
   "source": [
    "subset"
   ]
  },
  {
   "cell_type": "code",
   "execution_count": 24,
   "id": "1a6941a6",
   "metadata": {
    "scrolled": true
   },
   "outputs": [
    {
     "name": "stdout",
     "output_type": "stream",
     "text": [
      "Sadowitz, Mr. Harry | male | nan years old.\n",
      "Cotterill, Mr. Henry Harry\"\" | male | 21.0 years old.\n",
      "Bjorklund, Mr. Ernst Herbert | male | 18.0 years old.\n",
      "Baimbrigge, Mr. Charles Robert | male | 23.0 years old.\n",
      "Olsen, Master. Artur Karl | male | 9.0 years old.\n",
      "Everett, Mr. Thomas James | male | 40.5 years old.\n",
      "Chisholm, Mr. Roderick Robert Crispin | male | nan years old.\n",
      "Hagardon, Miss. Kate | female | 17.0 years old.\n",
      "Stanton, Mr. Samuel Ward | male | 41.0 years old.\n",
      "Buckley, Mr. Daniel | male | 21.0 years old.\n",
      "Rasmussen, Mrs. (Lena Jacobsen Solvang) | female | nan years old.\n",
      "Touma, Master. Georges Youssef | male | 7.0 years old.\n",
      "Vander Planke, Mr. Julius | male | 31.0 years old.\n",
      "de Brito, Mr. Jose Joaquim | male | 32.0 years old.\n",
      "Phillips, Miss. Alice Frances Louisa | female | 21.0 years old.\n",
      "Daly, Miss. Margaret Marcella Maggie\"\" | female | 30.0 years old.\n",
      "Mangiavacchi, Mr. Serafino Emilio | male | nan years old.\n",
      "Connolly, Miss. Kate | female | 30.0 years old.\n",
      "Evans, Miss. Edith Corse | female | 36.0 years old.\n",
      "Kiernan, Mr. John | male | nan years old.\n"
     ]
    }
   ],
   "source": [
    "for row in subset.itertuples():\n",
    "    \n",
    "    concatColumns(row)"
   ]
  },
  {
   "cell_type": "markdown",
   "id": "bcde3408",
   "metadata": {},
   "source": [
    "So we can see how useful a function can be."
   ]
  },
  {
   "cell_type": "markdown",
   "id": "53426a8a",
   "metadata": {},
   "source": [
    "We can also call functions from within functions. Let's modify our function a bit to make the names all caps."
   ]
  },
  {
   "cell_type": "code",
   "execution_count": 25,
   "id": "39d98715",
   "metadata": {},
   "outputs": [],
   "source": [
    "def concatColumns2 (row):\n",
    "    '''\n",
    "    This function concatenates several rows together into a sting.\n",
    "    \n",
    "    Parameters:\n",
    "        row = The row in the dataframe that is being concatenated.\n",
    "    '''\n",
    "    \n",
    "    \n",
    "    string = functionName(row[4]) + ' | ' + row[5] + ' | ' + str(row[6]) + ' years old.'\n",
    "    \n",
    "    print(string)"
   ]
  },
  {
   "cell_type": "code",
   "execution_count": 26,
   "id": "4bf9bd13",
   "metadata": {
    "scrolled": false
   },
   "outputs": [
    {
     "name": "stdout",
     "output_type": "stream",
     "text": [
      "Converting Sadowitz, Mr. Harry to all caps!\n",
      "SADOWITZ, MR. HARRY | male | nan years old.\n",
      "Converting Cotterill, Mr. Henry Harry\"\" to all caps!\n",
      "COTTERILL, MR. HENRY HARRY\"\" | male | 21.0 years old.\n",
      "Converting Bjorklund, Mr. Ernst Herbert to all caps!\n",
      "BJORKLUND, MR. ERNST HERBERT | male | 18.0 years old.\n",
      "Converting Baimbrigge, Mr. Charles Robert to all caps!\n",
      "BAIMBRIGGE, MR. CHARLES ROBERT | male | 23.0 years old.\n",
      "Converting Olsen, Master. Artur Karl to all caps!\n",
      "OLSEN, MASTER. ARTUR KARL | male | 9.0 years old.\n",
      "Converting Everett, Mr. Thomas James to all caps!\n",
      "EVERETT, MR. THOMAS JAMES | male | 40.5 years old.\n",
      "Converting Chisholm, Mr. Roderick Robert Crispin to all caps!\n",
      "CHISHOLM, MR. RODERICK ROBERT CRISPIN | male | nan years old.\n",
      "Converting Hagardon, Miss. Kate to all caps!\n",
      "HAGARDON, MISS. KATE | female | 17.0 years old.\n",
      "Converting Stanton, Mr. Samuel Ward to all caps!\n",
      "STANTON, MR. SAMUEL WARD | male | 41.0 years old.\n",
      "Converting Buckley, Mr. Daniel to all caps!\n",
      "BUCKLEY, MR. DANIEL | male | 21.0 years old.\n",
      "Converting Rasmussen, Mrs. (Lena Jacobsen Solvang) to all caps!\n",
      "RASMUSSEN, MRS. (LENA JACOBSEN SOLVANG) | female | nan years old.\n",
      "Converting Touma, Master. Georges Youssef to all caps!\n",
      "TOUMA, MASTER. GEORGES YOUSSEF | male | 7.0 years old.\n",
      "Converting Vander Planke, Mr. Julius to all caps!\n",
      "VANDER PLANKE, MR. JULIUS | male | 31.0 years old.\n",
      "Converting de Brito, Mr. Jose Joaquim to all caps!\n",
      "DE BRITO, MR. JOSE JOAQUIM | male | 32.0 years old.\n",
      "Converting Phillips, Miss. Alice Frances Louisa to all caps!\n",
      "PHILLIPS, MISS. ALICE FRANCES LOUISA | female | 21.0 years old.\n",
      "Converting Daly, Miss. Margaret Marcella Maggie\"\" to all caps!\n",
      "DALY, MISS. MARGARET MARCELLA MAGGIE\"\" | female | 30.0 years old.\n",
      "Converting Mangiavacchi, Mr. Serafino Emilio to all caps!\n",
      "MANGIAVACCHI, MR. SERAFINO EMILIO | male | nan years old.\n",
      "Converting Connolly, Miss. Kate to all caps!\n",
      "CONNOLLY, MISS. KATE | female | 30.0 years old.\n",
      "Converting Evans, Miss. Edith Corse to all caps!\n",
      "EVANS, MISS. EDITH CORSE | female | 36.0 years old.\n",
      "Converting Kiernan, Mr. John to all caps!\n",
      "KIERNAN, MR. JOHN | male | nan years old.\n"
     ]
    }
   ],
   "source": [
    "for row in subset.itertuples():\n",
    "    \n",
    "    concatColumns2(row)"
   ]
  },
  {
   "cell_type": "markdown",
   "id": "49627892",
   "metadata": {},
   "source": [
    "So we can see how the functions can ver very useful."
   ]
  }
 ],
 "metadata": {
  "kernelspec": {
   "display_name": "Python 3 (ipykernel)",
   "language": "python",
   "name": "python3"
  },
  "language_info": {
   "codemirror_mode": {
    "name": "ipython",
    "version": 3
   },
   "file_extension": ".py",
   "mimetype": "text/x-python",
   "name": "python",
   "nbconvert_exporter": "python",
   "pygments_lexer": "ipython3",
   "version": "3.10.0"
  }
 },
 "nbformat": 4,
 "nbformat_minor": 5
}
