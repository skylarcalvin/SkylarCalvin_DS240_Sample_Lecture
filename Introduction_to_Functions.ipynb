{
 "cells": [
  {
   "cell_type": "markdown",
   "id": "8f4c9aa4",
   "metadata": {},
   "source": [
    "In this notebook I outline the basics of creating and using functions in Python. I will brefly describe what a function is, demonstrate a function's basic syntax, and then dive deep into function usage. The objective is for students to grasp the conept of how functions are used so they may be able to apply this convention into their code."
   ]
  },
  {
   "cell_type": "markdown",
   "id": "86620b68",
   "metadata": {},
   "source": [
    "# Prerequisites"
   ]
  },
  {
   "cell_type": "markdown",
   "id": "a678f0c8",
   "metadata": {},
   "source": [
    "## Import the necessary packages."
   ]
  },
  {
   "cell_type": "markdown",
   "id": "d91bf4a5",
   "metadata": {},
   "source": [
    "First we will load the packages necessary to complete our demonstration. We will primarily be using the [Pandas](https://pandas.pydata.org/) package to help read in our data."
   ]
  },
  {
   "cell_type": "code",
   "execution_count": 1,
   "id": "6688015c",
   "metadata": {},
   "outputs": [],
   "source": [
    "import pandas as pd # For loading the CSV file into a dataframe."
   ]
  },
  {
   "cell_type": "markdown",
   "id": "851f6ee2",
   "metadata": {},
   "source": [
    "## Load some data."
   ]
  },
  {
   "cell_type": "markdown",
   "id": "6d935824",
   "metadata": {},
   "source": [
    "For this demonstration, we will be using the Titannic dataset, which is readily available on [Kaggle.com](https://www.kaggle.com/datasets/brendan45774/test-file?resource=download). This dataset details the manfest of the RMS Titannic. It contains passenger demographic information as well as information relating to the passenger's economic status. For the purposes of this demonstration we will focus on how a function works in relation to the dataset."
   ]
  },
  {
   "cell_type": "markdown",
   "id": "e28dfafa",
   "metadata": {},
   "source": [
    "To load the data we will read the titannic.csv file into dataframe using the Pandas package. We will cover dataframes later on in the course."
   ]
  },
  {
   "cell_type": "code",
   "execution_count": 2,
   "id": "a823d18a",
   "metadata": {},
   "outputs": [],
   "source": [
    "data = pd.read_csv('titanic.csv')"
   ]
  },
  {
   "cell_type": "markdown",
   "id": "e45e6970",
   "metadata": {},
   "source": [
    "Once we have our dataframe loaded let's inspect it briefly to get a sense of the collumns and rows. "
   ]
  },
  {
   "cell_type": "code",
   "execution_count": 3,
   "id": "ecd2770b",
   "metadata": {},
   "outputs": [
    {
     "data": {
      "text/html": [
       "<div>\n",
       "<style scoped>\n",
       "    .dataframe tbody tr th:only-of-type {\n",
       "        vertical-align: middle;\n",
       "    }\n",
       "\n",
       "    .dataframe tbody tr th {\n",
       "        vertical-align: top;\n",
       "    }\n",
       "\n",
       "    .dataframe thead th {\n",
       "        text-align: right;\n",
       "    }\n",
       "</style>\n",
       "<table border=\"1\" class=\"dataframe\">\n",
       "  <thead>\n",
       "    <tr style=\"text-align: right;\">\n",
       "      <th></th>\n",
       "      <th>PassengerId</th>\n",
       "      <th>Survived</th>\n",
       "      <th>Pclass</th>\n",
       "      <th>Name</th>\n",
       "      <th>Sex</th>\n",
       "      <th>Age</th>\n",
       "      <th>SibSp</th>\n",
       "      <th>Parch</th>\n",
       "      <th>Ticket</th>\n",
       "      <th>Fare</th>\n",
       "      <th>Cabin</th>\n",
       "      <th>Embarked</th>\n",
       "    </tr>\n",
       "  </thead>\n",
       "  <tbody>\n",
       "    <tr>\n",
       "      <th>0</th>\n",
       "      <td>892</td>\n",
       "      <td>0</td>\n",
       "      <td>3</td>\n",
       "      <td>Kelly, Mr. James</td>\n",
       "      <td>male</td>\n",
       "      <td>34.5</td>\n",
       "      <td>0</td>\n",
       "      <td>0</td>\n",
       "      <td>330911</td>\n",
       "      <td>7.8292</td>\n",
       "      <td>NaN</td>\n",
       "      <td>Q</td>\n",
       "    </tr>\n",
       "    <tr>\n",
       "      <th>1</th>\n",
       "      <td>893</td>\n",
       "      <td>1</td>\n",
       "      <td>3</td>\n",
       "      <td>Wilkes, Mrs. James (Ellen Needs)</td>\n",
       "      <td>female</td>\n",
       "      <td>47.0</td>\n",
       "      <td>1</td>\n",
       "      <td>0</td>\n",
       "      <td>363272</td>\n",
       "      <td>7.0000</td>\n",
       "      <td>NaN</td>\n",
       "      <td>S</td>\n",
       "    </tr>\n",
       "    <tr>\n",
       "      <th>2</th>\n",
       "      <td>894</td>\n",
       "      <td>0</td>\n",
       "      <td>2</td>\n",
       "      <td>Myles, Mr. Thomas Francis</td>\n",
       "      <td>male</td>\n",
       "      <td>62.0</td>\n",
       "      <td>0</td>\n",
       "      <td>0</td>\n",
       "      <td>240276</td>\n",
       "      <td>9.6875</td>\n",
       "      <td>NaN</td>\n",
       "      <td>Q</td>\n",
       "    </tr>\n",
       "    <tr>\n",
       "      <th>3</th>\n",
       "      <td>895</td>\n",
       "      <td>0</td>\n",
       "      <td>3</td>\n",
       "      <td>Wirz, Mr. Albert</td>\n",
       "      <td>male</td>\n",
       "      <td>27.0</td>\n",
       "      <td>0</td>\n",
       "      <td>0</td>\n",
       "      <td>315154</td>\n",
       "      <td>8.6625</td>\n",
       "      <td>NaN</td>\n",
       "      <td>S</td>\n",
       "    </tr>\n",
       "    <tr>\n",
       "      <th>4</th>\n",
       "      <td>896</td>\n",
       "      <td>1</td>\n",
       "      <td>3</td>\n",
       "      <td>Hirvonen, Mrs. Alexander (Helga E Lindqvist)</td>\n",
       "      <td>female</td>\n",
       "      <td>22.0</td>\n",
       "      <td>1</td>\n",
       "      <td>1</td>\n",
       "      <td>3101298</td>\n",
       "      <td>12.2875</td>\n",
       "      <td>NaN</td>\n",
       "      <td>S</td>\n",
       "    </tr>\n",
       "  </tbody>\n",
       "</table>\n",
       "</div>"
      ],
      "text/plain": [
       "   PassengerId  Survived  Pclass  \\\n",
       "0          892         0       3   \n",
       "1          893         1       3   \n",
       "2          894         0       2   \n",
       "3          895         0       3   \n",
       "4          896         1       3   \n",
       "\n",
       "                                           Name     Sex   Age  SibSp  Parch  \\\n",
       "0                              Kelly, Mr. James    male  34.5      0      0   \n",
       "1              Wilkes, Mrs. James (Ellen Needs)  female  47.0      1      0   \n",
       "2                     Myles, Mr. Thomas Francis    male  62.0      0      0   \n",
       "3                              Wirz, Mr. Albert    male  27.0      0      0   \n",
       "4  Hirvonen, Mrs. Alexander (Helga E Lindqvist)  female  22.0      1      1   \n",
       "\n",
       "    Ticket     Fare Cabin Embarked  \n",
       "0   330911   7.8292   NaN        Q  \n",
       "1   363272   7.0000   NaN        S  \n",
       "2   240276   9.6875   NaN        Q  \n",
       "3   315154   8.6625   NaN        S  \n",
       "4  3101298  12.2875   NaN        S  "
      ]
     },
     "execution_count": 3,
     "metadata": {},
     "output_type": "execute_result"
    }
   ],
   "source": [
    "data.head()"
   ]
  },
  {
   "cell_type": "code",
   "execution_count": 4,
   "id": "1edaee9e",
   "metadata": {
    "scrolled": true
   },
   "outputs": [
    {
     "data": {
      "text/html": [
       "<div>\n",
       "<style scoped>\n",
       "    .dataframe tbody tr th:only-of-type {\n",
       "        vertical-align: middle;\n",
       "    }\n",
       "\n",
       "    .dataframe tbody tr th {\n",
       "        vertical-align: top;\n",
       "    }\n",
       "\n",
       "    .dataframe thead th {\n",
       "        text-align: right;\n",
       "    }\n",
       "</style>\n",
       "<table border=\"1\" class=\"dataframe\">\n",
       "  <thead>\n",
       "    <tr style=\"text-align: right;\">\n",
       "      <th></th>\n",
       "      <th>PassengerId</th>\n",
       "      <th>Survived</th>\n",
       "      <th>Pclass</th>\n",
       "      <th>Name</th>\n",
       "      <th>Sex</th>\n",
       "      <th>Age</th>\n",
       "      <th>SibSp</th>\n",
       "      <th>Parch</th>\n",
       "      <th>Ticket</th>\n",
       "      <th>Fare</th>\n",
       "      <th>Cabin</th>\n",
       "      <th>Embarked</th>\n",
       "    </tr>\n",
       "  </thead>\n",
       "  <tbody>\n",
       "    <tr>\n",
       "      <th>413</th>\n",
       "      <td>1305</td>\n",
       "      <td>0</td>\n",
       "      <td>3</td>\n",
       "      <td>Spector, Mr. Woolf</td>\n",
       "      <td>male</td>\n",
       "      <td>NaN</td>\n",
       "      <td>0</td>\n",
       "      <td>0</td>\n",
       "      <td>A.5. 3236</td>\n",
       "      <td>8.0500</td>\n",
       "      <td>NaN</td>\n",
       "      <td>S</td>\n",
       "    </tr>\n",
       "    <tr>\n",
       "      <th>414</th>\n",
       "      <td>1306</td>\n",
       "      <td>1</td>\n",
       "      <td>1</td>\n",
       "      <td>Oliva y Ocana, Dona. Fermina</td>\n",
       "      <td>female</td>\n",
       "      <td>39.0</td>\n",
       "      <td>0</td>\n",
       "      <td>0</td>\n",
       "      <td>PC 17758</td>\n",
       "      <td>108.9000</td>\n",
       "      <td>C105</td>\n",
       "      <td>C</td>\n",
       "    </tr>\n",
       "    <tr>\n",
       "      <th>415</th>\n",
       "      <td>1307</td>\n",
       "      <td>0</td>\n",
       "      <td>3</td>\n",
       "      <td>Saether, Mr. Simon Sivertsen</td>\n",
       "      <td>male</td>\n",
       "      <td>38.5</td>\n",
       "      <td>0</td>\n",
       "      <td>0</td>\n",
       "      <td>SOTON/O.Q. 3101262</td>\n",
       "      <td>7.2500</td>\n",
       "      <td>NaN</td>\n",
       "      <td>S</td>\n",
       "    </tr>\n",
       "    <tr>\n",
       "      <th>416</th>\n",
       "      <td>1308</td>\n",
       "      <td>0</td>\n",
       "      <td>3</td>\n",
       "      <td>Ware, Mr. Frederick</td>\n",
       "      <td>male</td>\n",
       "      <td>NaN</td>\n",
       "      <td>0</td>\n",
       "      <td>0</td>\n",
       "      <td>359309</td>\n",
       "      <td>8.0500</td>\n",
       "      <td>NaN</td>\n",
       "      <td>S</td>\n",
       "    </tr>\n",
       "    <tr>\n",
       "      <th>417</th>\n",
       "      <td>1309</td>\n",
       "      <td>0</td>\n",
       "      <td>3</td>\n",
       "      <td>Peter, Master. Michael J</td>\n",
       "      <td>male</td>\n",
       "      <td>NaN</td>\n",
       "      <td>1</td>\n",
       "      <td>1</td>\n",
       "      <td>2668</td>\n",
       "      <td>22.3583</td>\n",
       "      <td>NaN</td>\n",
       "      <td>C</td>\n",
       "    </tr>\n",
       "  </tbody>\n",
       "</table>\n",
       "</div>"
      ],
      "text/plain": [
       "     PassengerId  Survived  Pclass                          Name     Sex  \\\n",
       "413         1305         0       3            Spector, Mr. Woolf    male   \n",
       "414         1306         1       1  Oliva y Ocana, Dona. Fermina  female   \n",
       "415         1307         0       3  Saether, Mr. Simon Sivertsen    male   \n",
       "416         1308         0       3           Ware, Mr. Frederick    male   \n",
       "417         1309         0       3      Peter, Master. Michael J    male   \n",
       "\n",
       "      Age  SibSp  Parch              Ticket      Fare Cabin Embarked  \n",
       "413   NaN      0      0           A.5. 3236    8.0500   NaN        S  \n",
       "414  39.0      0      0            PC 17758  108.9000  C105        C  \n",
       "415  38.5      0      0  SOTON/O.Q. 3101262    7.2500   NaN        S  \n",
       "416   NaN      0      0              359309    8.0500   NaN        S  \n",
       "417   NaN      1      1                2668   22.3583   NaN        C  "
      ]
     },
     "execution_count": 4,
     "metadata": {},
     "output_type": "execute_result"
    }
   ],
   "source": [
    "data.tail()"
   ]
  },
  {
   "cell_type": "markdown",
   "id": "1509e1fd",
   "metadata": {},
   "source": [
    "As we can see we now have our data in a neat, concise format. We are ready to dive in!"
   ]
  },
  {
   "cell_type": "markdown",
   "id": "4a63f071",
   "metadata": {},
   "source": [
    "# Function Fundamentals"
   ]
  },
  {
   "cell_type": "markdown",
   "id": "6609a8a2",
   "metadata": {},
   "source": [
    "At the bare minimum function is defined as a collection of related statements that perform a specific task. The code in a function is reusable, meaning it can be called repeatedly to produce the same result over and over again. Functions are a very useful component of the related concept of object oriented programming."
   ]
  },
  {
   "cell_type": "markdown",
   "id": "a06c93fa",
   "metadata": {},
   "source": [
    "## Basic Function Syntax"
   ]
  },
  {
   "cell_type": "markdown",
   "id": "7e731e3e",
   "metadata": {},
   "source": [
    "A function actually has seven parts, with some optional:\n",
    "    \n",
    "     1. The def keyword which marks the start of the function head.\n",
    "     2. A function name to identify the function with.\n",
    "     3. Optional parameters or arguments through which we pass values to a function.\n",
    "     4. A colon (:) to mark the end of the end of the function header.\n",
    "     5. An optional documentation string (commonly referred to as a docstring) to help describe what the function is doing.\n",
    "     6. One or more valid Python statements that make up the function body.\n",
    "     7. An optional return statement to return a value from the function. Note that there can be multiple return statements.\n",
    "     \n",
    "Here is what a function looks like."
   ]
  },
  {
   "cell_type": "code",
   "execution_count": 5,
   "id": "4d5d4dfd",
   "metadata": {},
   "outputs": [],
   "source": [
    "def functionName (parameter = 'test'):\n",
    "    '''\n",
    "    This is the docstring for this function.\n",
    "    It serves two purposes.\n",
    "        1. It describes what the function is doing.\n",
    "        2. It is what is displayed when the function is called with the \n",
    "            help function.\n",
    "            \n",
    "    This function capitolizes all characters in your sting.\n",
    "    '''\n",
    "    \n",
    "    ## Valid Python statements go here. ##\n",
    "    print('Converting ', parameter, ' to all caps!', sep = '')\n",
    "    \n",
    "    # We save the parameter string to a variable.\n",
    "    string = parameter\n",
    "    \n",
    "    # Lastly we return the variable value from the function in all caps.\n",
    "    return string.upper()"
   ]
  },
  {
   "cell_type": "markdown",
   "id": "282dbbf5",
   "metadata": {},
   "source": [
    "A couple of things to note here.\n",
    "\n",
    "Notice how the parameter has a string assigned to it. This is the default value of the parameter. If the function is called without a parameter specified, then the parameter will be assigned with its default value for that instance of the function run.\n",
    "\n",
    "The docstring is, while optional, used to provide information when calling the help function on your function. So it's generally best practice to include one along with regular comments in the statement section so that your code is readable and managable.\n",
    "\n",
    "Note how I passed the parameter to a variable in the function and then used that variable to manipulate the data contained therein. This is a standard method of passing data into your functions.\n",
    "\n",
    "Lastly, I return the capitolized version of the string that was passed into the function at the end. For usage, the function must be assigned to a variable for it to be output."
   ]
  },
  {
   "cell_type": "markdown",
   "id": "43c6ef18",
   "metadata": {},
   "source": [
    "If we wish, we can also have multiple parameters in the function."
   ]
  },
  {
   "cell_type": "code",
   "execution_count": 6,
   "id": "c49b8367",
   "metadata": {},
   "outputs": [],
   "source": [
    "def functionName2 (parameter = 'test', parameter2 = 'test2'):\n",
    "    '''\n",
    "    This is the docstring for this function.\n",
    "    It serves two purposes.\n",
    "        1. It describes what the function is doing.\n",
    "        2. It is what is displayed when the function is called with the \n",
    "            help function.\n",
    "            \n",
    "    This function capitolizes all characters in your sting.\n",
    "    '''\n",
    "    \n",
    "    ## Valid Python statements go here. ##\n",
    "    print('Converting ', parameter, ' to all caps!', sep = '')\n",
    "    \n",
    "    # We save the parameter string to a variable.\n",
    "    string = parameter\n",
    "    string2 = parameter2\n",
    "    \n",
    "    # Lastly we return the variable value from the function in all caps.\n",
    "    return string.upper(), string2"
   ]
  },
  {
   "cell_type": "markdown",
   "id": "e21a3e3f",
   "metadata": {},
   "source": [
    "## Function Usage"
   ]
  },
  {
   "cell_type": "markdown",
   "id": "25d061d3",
   "metadata": {},
   "source": [
    "Let's check out the documentation for the function."
   ]
  },
  {
   "cell_type": "code",
   "execution_count": 7,
   "id": "dd2c91ae",
   "metadata": {},
   "outputs": [
    {
     "name": "stdout",
     "output_type": "stream",
     "text": [
      "Help on function functionName in module __main__:\n",
      "\n",
      "functionName(parameter='test')\n",
      "    This is the docstring for this function.\n",
      "    It serves two purposes.\n",
      "        1. It describes what the function is doing.\n",
      "        2. It is what is displayed when the function is called with the \n",
      "            help function.\n",
      "            \n",
      "    This function capitolizes all characters in your sting.\n",
      "\n"
     ]
    }
   ],
   "source": [
    "help(functionName)"
   ]
  },
  {
   "cell_type": "markdown",
   "id": "15202b34",
   "metadata": {},
   "source": [
    "Notice that the function's docstring was displayed. This can be usedful in learning about a new function that you haven't used before. It's important to keep your functions well documented so other developers can pick up where you left off. This is part of that."
   ]
  },
  {
   "cell_type": "markdown",
   "id": "ea35fb39",
   "metadata": {},
   "source": [
    "Let's call the function WITHOUT a parameter."
   ]
  },
  {
   "cell_type": "code",
   "execution_count": 8,
   "id": "2706b744",
   "metadata": {},
   "outputs": [
    {
     "name": "stdout",
     "output_type": "stream",
     "text": [
      "Converting test to all caps!\n"
     ]
    },
    {
     "data": {
      "text/plain": [
       "'TEST'"
      ]
     },
     "execution_count": 8,
     "metadata": {},
     "output_type": "execute_result"
    }
   ],
   "source": [
    "functionName()"
   ]
  },
  {
   "cell_type": "markdown",
   "id": "427c6b70",
   "metadata": {},
   "source": [
    "Two things happened here. First, the default value was used for the parameter, and then passed through the function, outputting it in the console. Notice that I didn't assign it to a variable. Second, the contents of the print statement was printed out. What I am illustrating here is, that print can be very useful in diagnosing bfunction behavior."
   ]
  },
  {
   "cell_type": "markdown",
   "id": "9c0ebd50",
   "metadata": {},
   "source": [
    "Let's try it again, only this time I'm going to assign it to a variable, and then view that variable."
   ]
  },
  {
   "cell_type": "code",
   "execution_count": 9,
   "id": "43886507",
   "metadata": {},
   "outputs": [
    {
     "name": "stdout",
     "output_type": "stream",
     "text": [
      "Converting test to all caps!\n"
     ]
    },
    {
     "data": {
      "text/plain": [
       "'TEST'"
      ]
     },
     "execution_count": 9,
     "metadata": {},
     "output_type": "execute_result"
    }
   ],
   "source": [
    "variable = functionName()\n",
    "variable"
   ]
  },
  {
   "cell_type": "markdown",
   "id": "f44256db",
   "metadata": {},
   "source": [
    "Now we can call the variable in our code for reuse."
   ]
  },
  {
   "cell_type": "code",
   "execution_count": 10,
   "id": "d739888c",
   "metadata": {},
   "outputs": [
    {
     "name": "stdout",
     "output_type": "stream",
     "text": [
      "This is a TEST!\n"
     ]
    }
   ],
   "source": [
    "print('This is a ', variable, '!', sep = '')"
   ]
  },
  {
   "cell_type": "markdown",
   "id": "287f3335",
   "metadata": {},
   "source": [
    "We can also pass other strings to the function."
   ]
  },
  {
   "cell_type": "code",
   "execution_count": 11,
   "id": "cd2b3e96",
   "metadata": {},
   "outputs": [
    {
     "name": "stdout",
     "output_type": "stream",
     "text": [
      "Converting Sky to all caps!\n",
      "My name in all caps is, SKY.\n"
     ]
    }
   ],
   "source": [
    "variable2 = functionName('Sky')\n",
    "print('My name in all caps is, ', variable2, '.', sep = '')"
   ]
  },
  {
   "cell_type": "markdown",
   "id": "c4786074",
   "metadata": {},
   "source": [
    "Let's call our second function with two variables."
   ]
  },
  {
   "cell_type": "code",
   "execution_count": 12,
   "id": "fa8a3836",
   "metadata": {},
   "outputs": [
    {
     "name": "stdout",
     "output_type": "stream",
     "text": [
      "Converting foo to all caps!\n",
      "FOO\n",
      "bar\n"
     ]
    }
   ],
   "source": [
    "variable3, variable4 = functionName2('foo', 'bar')\n",
    "print(variable3)\n",
    "print(variable4)"
   ]
  },
  {
   "cell_type": "markdown",
   "id": "23b9908e",
   "metadata": {},
   "source": [
    "Note how we were able to pass in two strings, and return two values."
   ]
  },
  {
   "cell_type": "markdown",
   "id": "7c53bb9e",
   "metadata": {},
   "source": [
    "The point is, functions are a very convenient means of performing repetative tasks efficiently."
   ]
  },
  {
   "cell_type": "markdown",
   "id": "7bf45b94",
   "metadata": {},
   "source": [
    "# Practical Function Demonstration."
   ]
  },
  {
   "cell_type": "markdown",
   "id": "09d9e433",
   "metadata": {},
   "source": [
    "We will now shift to a real demonstration of how useful functions are. We will use the Titannic dataset that we loaded into a dataframe earlier. Let's for a minute see what we can do with this dataset WITHOUT  a function."
   ]
  },
  {
   "cell_type": "markdown",
   "id": "3c461601",
   "metadata": {},
   "source": [
    "Let's we want to concatenate together some columns. So we do so for a few rows like so."
   ]
  },
  {
   "cell_type": "code",
   "execution_count": 13,
   "id": "91da51c8",
   "metadata": {},
   "outputs": [
    {
     "data": {
      "text/plain": [
       "'Wilkes, Mrs. James (Ellen Needs) | female | 47.0 years old. | '"
      ]
     },
     "execution_count": 13,
     "metadata": {},
     "output_type": "execute_result"
    }
   ],
   "source": [
    "concat1 = data['Name'][1] + ' | ' + data['Sex'][1] + ' | ' + str(data['Age'][1]) + ' years old. | '\n",
    "concat1"
   ]
  },
  {
   "cell_type": "code",
   "execution_count": 14,
   "id": "0d37b650",
   "metadata": {},
   "outputs": [
    {
     "data": {
      "text/plain": [
       "'Myles, Mr. Thomas Francis | male | 62.0 years old. | '"
      ]
     },
     "execution_count": 14,
     "metadata": {},
     "output_type": "execute_result"
    }
   ],
   "source": [
    "concat2 = data['Name'][2] + ' | ' + data['Sex'][2] + ' | ' + str(data['Age'][2]) + ' years old. | '\n",
    "concat2"
   ]
  },
  {
   "cell_type": "code",
   "execution_count": 15,
   "id": "6eb78ba0",
   "metadata": {},
   "outputs": [
    {
     "data": {
      "text/plain": [
       "'Wirz, Mr. Albert | male | 27.0 years old. | '"
      ]
     },
     "execution_count": 15,
     "metadata": {},
     "output_type": "execute_result"
    }
   ],
   "source": [
    "concat3 = data['Name'][3] + ' | ' + data['Sex'][3] + ' | ' + str(data['Age'][3]) + ' years old. | '\n",
    "concat3"
   ]
  },
  {
   "cell_type": "markdown",
   "id": "9dbb63c0",
   "metadata": {},
   "source": [
    "As we can see, while this is certainly doable, it is slightly tedious in nature. We have repeated our code three times manually to produce the same result. Let's see if we can arrive at the same result with a function."
   ]
  },
  {
   "cell_type": "code",
   "execution_count": 16,
   "id": "a5cbdffc",
   "metadata": {},
   "outputs": [],
   "source": [
    "def concatColumns (row):\n",
    "    '''\n",
    "    This function concatenates several rows together into a sting.\n",
    "    \n",
    "    Parameters:\n",
    "        row = The row in the dataframe that is being concatenated.\n",
    "    '''\n",
    "    \n",
    "    \n",
    "    string = row[4] + ' | ' + row[5] + ' | ' + str(row[6]) + ' years old.'\n",
    "    \n",
    "    print(string)"
   ]
  },
  {
   "cell_type": "markdown",
   "id": "3c7cee9a",
   "metadata": {},
   "source": [
    "Now that we have our process canned into a function, let's see what it can do."
   ]
  },
  {
   "cell_type": "markdown",
   "id": "7920724f",
   "metadata": {},
   "source": [
    "For demonstration purposes, we will take a small subset of the data, say 20 rows. We will use a for loop on the dataframe and process each row using our function."
   ]
  },
  {
   "cell_type": "code",
   "execution_count": 17,
   "id": "3c6b3c8b",
   "metadata": {},
   "outputs": [],
   "source": [
    "subset = data.sample(n = 20)"
   ]
  },
  {
   "cell_type": "code",
   "execution_count": 18,
   "id": "e540a55c",
   "metadata": {},
   "outputs": [
    {
     "data": {
      "text/html": [
       "<div>\n",
       "<style scoped>\n",
       "    .dataframe tbody tr th:only-of-type {\n",
       "        vertical-align: middle;\n",
       "    }\n",
       "\n",
       "    .dataframe tbody tr th {\n",
       "        vertical-align: top;\n",
       "    }\n",
       "\n",
       "    .dataframe thead th {\n",
       "        text-align: right;\n",
       "    }\n",
       "</style>\n",
       "<table border=\"1\" class=\"dataframe\">\n",
       "  <thead>\n",
       "    <tr style=\"text-align: right;\">\n",
       "      <th></th>\n",
       "      <th>PassengerId</th>\n",
       "      <th>Survived</th>\n",
       "      <th>Pclass</th>\n",
       "      <th>Name</th>\n",
       "      <th>Sex</th>\n",
       "      <th>Age</th>\n",
       "      <th>SibSp</th>\n",
       "      <th>Parch</th>\n",
       "      <th>Ticket</th>\n",
       "      <th>Fare</th>\n",
       "      <th>Cabin</th>\n",
       "      <th>Embarked</th>\n",
       "    </tr>\n",
       "  </thead>\n",
       "  <tbody>\n",
       "    <tr>\n",
       "      <th>261</th>\n",
       "      <td>1153</td>\n",
       "      <td>0</td>\n",
       "      <td>3</td>\n",
       "      <td>Nilsson, Mr. August Ferdinand</td>\n",
       "      <td>male</td>\n",
       "      <td>21.0</td>\n",
       "      <td>0</td>\n",
       "      <td>0</td>\n",
       "      <td>350410</td>\n",
       "      <td>7.8542</td>\n",
       "      <td>NaN</td>\n",
       "      <td>S</td>\n",
       "    </tr>\n",
       "    <tr>\n",
       "      <th>284</th>\n",
       "      <td>1176</td>\n",
       "      <td>1</td>\n",
       "      <td>3</td>\n",
       "      <td>Rosblom, Miss. Salli Helena</td>\n",
       "      <td>female</td>\n",
       "      <td>2.0</td>\n",
       "      <td>1</td>\n",
       "      <td>1</td>\n",
       "      <td>370129</td>\n",
       "      <td>20.2125</td>\n",
       "      <td>NaN</td>\n",
       "      <td>S</td>\n",
       "    </tr>\n",
       "    <tr>\n",
       "      <th>256</th>\n",
       "      <td>1148</td>\n",
       "      <td>0</td>\n",
       "      <td>3</td>\n",
       "      <td>Mahon, Mr. John</td>\n",
       "      <td>male</td>\n",
       "      <td>NaN</td>\n",
       "      <td>0</td>\n",
       "      <td>0</td>\n",
       "      <td>AQ/4 3130</td>\n",
       "      <td>7.7500</td>\n",
       "      <td>NaN</td>\n",
       "      <td>Q</td>\n",
       "    </tr>\n",
       "    <tr>\n",
       "      <th>290</th>\n",
       "      <td>1182</td>\n",
       "      <td>0</td>\n",
       "      <td>1</td>\n",
       "      <td>Rheims, Mr. George Alexander Lucien</td>\n",
       "      <td>male</td>\n",
       "      <td>NaN</td>\n",
       "      <td>0</td>\n",
       "      <td>0</td>\n",
       "      <td>PC 17607</td>\n",
       "      <td>39.6000</td>\n",
       "      <td>NaN</td>\n",
       "      <td>S</td>\n",
       "    </tr>\n",
       "    <tr>\n",
       "      <th>223</th>\n",
       "      <td>1115</td>\n",
       "      <td>0</td>\n",
       "      <td>3</td>\n",
       "      <td>Karlsson, Mr. Einar Gervasius</td>\n",
       "      <td>male</td>\n",
       "      <td>21.0</td>\n",
       "      <td>0</td>\n",
       "      <td>0</td>\n",
       "      <td>350053</td>\n",
       "      <td>7.7958</td>\n",
       "      <td>NaN</td>\n",
       "      <td>S</td>\n",
       "    </tr>\n",
       "    <tr>\n",
       "      <th>265</th>\n",
       "      <td>1157</td>\n",
       "      <td>0</td>\n",
       "      <td>3</td>\n",
       "      <td>Lyntakoff, Mr. Stanko</td>\n",
       "      <td>male</td>\n",
       "      <td>NaN</td>\n",
       "      <td>0</td>\n",
       "      <td>0</td>\n",
       "      <td>349235</td>\n",
       "      <td>7.8958</td>\n",
       "      <td>NaN</td>\n",
       "      <td>S</td>\n",
       "    </tr>\n",
       "    <tr>\n",
       "      <th>172</th>\n",
       "      <td>1064</td>\n",
       "      <td>0</td>\n",
       "      <td>3</td>\n",
       "      <td>Dyker, Mr. Adolf Fredrik</td>\n",
       "      <td>male</td>\n",
       "      <td>23.0</td>\n",
       "      <td>1</td>\n",
       "      <td>0</td>\n",
       "      <td>347072</td>\n",
       "      <td>13.9000</td>\n",
       "      <td>NaN</td>\n",
       "      <td>S</td>\n",
       "    </tr>\n",
       "    <tr>\n",
       "      <th>241</th>\n",
       "      <td>1133</td>\n",
       "      <td>1</td>\n",
       "      <td>2</td>\n",
       "      <td>Christy, Mrs. (Alice Frances)</td>\n",
       "      <td>female</td>\n",
       "      <td>45.0</td>\n",
       "      <td>0</td>\n",
       "      <td>2</td>\n",
       "      <td>237789</td>\n",
       "      <td>30.0000</td>\n",
       "      <td>NaN</td>\n",
       "      <td>S</td>\n",
       "    </tr>\n",
       "    <tr>\n",
       "      <th>230</th>\n",
       "      <td>1122</td>\n",
       "      <td>0</td>\n",
       "      <td>2</td>\n",
       "      <td>Sweet, Mr. George Frederick</td>\n",
       "      <td>male</td>\n",
       "      <td>14.0</td>\n",
       "      <td>0</td>\n",
       "      <td>0</td>\n",
       "      <td>220845</td>\n",
       "      <td>65.0000</td>\n",
       "      <td>NaN</td>\n",
       "      <td>S</td>\n",
       "    </tr>\n",
       "    <tr>\n",
       "      <th>193</th>\n",
       "      <td>1085</td>\n",
       "      <td>0</td>\n",
       "      <td>2</td>\n",
       "      <td>Lingane, Mr. John</td>\n",
       "      <td>male</td>\n",
       "      <td>61.0</td>\n",
       "      <td>0</td>\n",
       "      <td>0</td>\n",
       "      <td>235509</td>\n",
       "      <td>12.3500</td>\n",
       "      <td>NaN</td>\n",
       "      <td>Q</td>\n",
       "    </tr>\n",
       "    <tr>\n",
       "      <th>278</th>\n",
       "      <td>1170</td>\n",
       "      <td>0</td>\n",
       "      <td>2</td>\n",
       "      <td>Ware, Mr. John James</td>\n",
       "      <td>male</td>\n",
       "      <td>30.0</td>\n",
       "      <td>1</td>\n",
       "      <td>0</td>\n",
       "      <td>CA 31352</td>\n",
       "      <td>21.0000</td>\n",
       "      <td>NaN</td>\n",
       "      <td>S</td>\n",
       "    </tr>\n",
       "    <tr>\n",
       "      <th>92</th>\n",
       "      <td>984</td>\n",
       "      <td>1</td>\n",
       "      <td>1</td>\n",
       "      <td>Davidson, Mrs. Thornton (Orian Hays)</td>\n",
       "      <td>female</td>\n",
       "      <td>27.0</td>\n",
       "      <td>1</td>\n",
       "      <td>2</td>\n",
       "      <td>F.C. 12750</td>\n",
       "      <td>52.0000</td>\n",
       "      <td>B71</td>\n",
       "      <td>S</td>\n",
       "    </tr>\n",
       "    <tr>\n",
       "      <th>104</th>\n",
       "      <td>996</td>\n",
       "      <td>1</td>\n",
       "      <td>3</td>\n",
       "      <td>Thomas, Mrs. Alexander (Thamine Thelma\")\"</td>\n",
       "      <td>female</td>\n",
       "      <td>16.0</td>\n",
       "      <td>1</td>\n",
       "      <td>1</td>\n",
       "      <td>2625</td>\n",
       "      <td>8.5167</td>\n",
       "      <td>NaN</td>\n",
       "      <td>C</td>\n",
       "    </tr>\n",
       "    <tr>\n",
       "      <th>133</th>\n",
       "      <td>1025</td>\n",
       "      <td>0</td>\n",
       "      <td>3</td>\n",
       "      <td>Thomas, Mr. Charles P</td>\n",
       "      <td>male</td>\n",
       "      <td>NaN</td>\n",
       "      <td>1</td>\n",
       "      <td>0</td>\n",
       "      <td>2621</td>\n",
       "      <td>6.4375</td>\n",
       "      <td>NaN</td>\n",
       "      <td>C</td>\n",
       "    </tr>\n",
       "    <tr>\n",
       "      <th>14</th>\n",
       "      <td>906</td>\n",
       "      <td>1</td>\n",
       "      <td>1</td>\n",
       "      <td>Chaffee, Mrs. Herbert Fuller (Carrie Constance...</td>\n",
       "      <td>female</td>\n",
       "      <td>47.0</td>\n",
       "      <td>1</td>\n",
       "      <td>0</td>\n",
       "      <td>W.E.P. 5734</td>\n",
       "      <td>61.1750</td>\n",
       "      <td>E31</td>\n",
       "      <td>S</td>\n",
       "    </tr>\n",
       "    <tr>\n",
       "      <th>285</th>\n",
       "      <td>1177</td>\n",
       "      <td>0</td>\n",
       "      <td>3</td>\n",
       "      <td>Dennis, Mr. William</td>\n",
       "      <td>male</td>\n",
       "      <td>36.0</td>\n",
       "      <td>0</td>\n",
       "      <td>0</td>\n",
       "      <td>A/5 21175</td>\n",
       "      <td>7.2500</td>\n",
       "      <td>NaN</td>\n",
       "      <td>S</td>\n",
       "    </tr>\n",
       "    <tr>\n",
       "      <th>113</th>\n",
       "      <td>1005</td>\n",
       "      <td>1</td>\n",
       "      <td>3</td>\n",
       "      <td>Buckley, Miss. Katherine</td>\n",
       "      <td>female</td>\n",
       "      <td>18.5</td>\n",
       "      <td>0</td>\n",
       "      <td>0</td>\n",
       "      <td>329944</td>\n",
       "      <td>7.2833</td>\n",
       "      <td>NaN</td>\n",
       "      <td>Q</td>\n",
       "    </tr>\n",
       "    <tr>\n",
       "      <th>330</th>\n",
       "      <td>1222</td>\n",
       "      <td>1</td>\n",
       "      <td>2</td>\n",
       "      <td>Davies, Mrs. John Morgan (Elizabeth Agnes Mary...</td>\n",
       "      <td>female</td>\n",
       "      <td>48.0</td>\n",
       "      <td>0</td>\n",
       "      <td>2</td>\n",
       "      <td>C.A. 33112</td>\n",
       "      <td>36.7500</td>\n",
       "      <td>NaN</td>\n",
       "      <td>S</td>\n",
       "    </tr>\n",
       "    <tr>\n",
       "      <th>260</th>\n",
       "      <td>1152</td>\n",
       "      <td>0</td>\n",
       "      <td>3</td>\n",
       "      <td>de Messemaeker, Mr. Guillaume Joseph</td>\n",
       "      <td>male</td>\n",
       "      <td>36.5</td>\n",
       "      <td>1</td>\n",
       "      <td>0</td>\n",
       "      <td>345572</td>\n",
       "      <td>17.4000</td>\n",
       "      <td>NaN</td>\n",
       "      <td>S</td>\n",
       "    </tr>\n",
       "    <tr>\n",
       "      <th>171</th>\n",
       "      <td>1063</td>\n",
       "      <td>0</td>\n",
       "      <td>3</td>\n",
       "      <td>Zakarian, Mr. Ortin</td>\n",
       "      <td>male</td>\n",
       "      <td>27.0</td>\n",
       "      <td>0</td>\n",
       "      <td>0</td>\n",
       "      <td>2670</td>\n",
       "      <td>7.2250</td>\n",
       "      <td>NaN</td>\n",
       "      <td>C</td>\n",
       "    </tr>\n",
       "  </tbody>\n",
       "</table>\n",
       "</div>"
      ],
      "text/plain": [
       "     PassengerId  Survived  Pclass  \\\n",
       "261         1153         0       3   \n",
       "284         1176         1       3   \n",
       "256         1148         0       3   \n",
       "290         1182         0       1   \n",
       "223         1115         0       3   \n",
       "265         1157         0       3   \n",
       "172         1064         0       3   \n",
       "241         1133         1       2   \n",
       "230         1122         0       2   \n",
       "193         1085         0       2   \n",
       "278         1170         0       2   \n",
       "92           984         1       1   \n",
       "104          996         1       3   \n",
       "133         1025         0       3   \n",
       "14           906         1       1   \n",
       "285         1177         0       3   \n",
       "113         1005         1       3   \n",
       "330         1222         1       2   \n",
       "260         1152         0       3   \n",
       "171         1063         0       3   \n",
       "\n",
       "                                                  Name     Sex   Age  SibSp  \\\n",
       "261                      Nilsson, Mr. August Ferdinand    male  21.0      0   \n",
       "284                        Rosblom, Miss. Salli Helena  female   2.0      1   \n",
       "256                                    Mahon, Mr. John    male   NaN      0   \n",
       "290                Rheims, Mr. George Alexander Lucien    male   NaN      0   \n",
       "223                      Karlsson, Mr. Einar Gervasius    male  21.0      0   \n",
       "265                              Lyntakoff, Mr. Stanko    male   NaN      0   \n",
       "172                           Dyker, Mr. Adolf Fredrik    male  23.0      1   \n",
       "241                      Christy, Mrs. (Alice Frances)  female  45.0      0   \n",
       "230                        Sweet, Mr. George Frederick    male  14.0      0   \n",
       "193                                  Lingane, Mr. John    male  61.0      0   \n",
       "278                               Ware, Mr. John James    male  30.0      1   \n",
       "92                Davidson, Mrs. Thornton (Orian Hays)  female  27.0      1   \n",
       "104          Thomas, Mrs. Alexander (Thamine Thelma\")\"  female  16.0      1   \n",
       "133                              Thomas, Mr. Charles P    male   NaN      1   \n",
       "14   Chaffee, Mrs. Herbert Fuller (Carrie Constance...  female  47.0      1   \n",
       "285                                Dennis, Mr. William    male  36.0      0   \n",
       "113                           Buckley, Miss. Katherine  female  18.5      0   \n",
       "330  Davies, Mrs. John Morgan (Elizabeth Agnes Mary...  female  48.0      0   \n",
       "260               de Messemaeker, Mr. Guillaume Joseph    male  36.5      1   \n",
       "171                                Zakarian, Mr. Ortin    male  27.0      0   \n",
       "\n",
       "     Parch       Ticket     Fare Cabin Embarked  \n",
       "261      0       350410   7.8542   NaN        S  \n",
       "284      1       370129  20.2125   NaN        S  \n",
       "256      0    AQ/4 3130   7.7500   NaN        Q  \n",
       "290      0     PC 17607  39.6000   NaN        S  \n",
       "223      0       350053   7.7958   NaN        S  \n",
       "265      0       349235   7.8958   NaN        S  \n",
       "172      0       347072  13.9000   NaN        S  \n",
       "241      2       237789  30.0000   NaN        S  \n",
       "230      0       220845  65.0000   NaN        S  \n",
       "193      0       235509  12.3500   NaN        Q  \n",
       "278      0     CA 31352  21.0000   NaN        S  \n",
       "92       2   F.C. 12750  52.0000   B71        S  \n",
       "104      1         2625   8.5167   NaN        C  \n",
       "133      0         2621   6.4375   NaN        C  \n",
       "14       0  W.E.P. 5734  61.1750   E31        S  \n",
       "285      0    A/5 21175   7.2500   NaN        S  \n",
       "113      0       329944   7.2833   NaN        Q  \n",
       "330      2   C.A. 33112  36.7500   NaN        S  \n",
       "260      0       345572  17.4000   NaN        S  \n",
       "171      0         2670   7.2250   NaN        C  "
      ]
     },
     "execution_count": 18,
     "metadata": {},
     "output_type": "execute_result"
    }
   ],
   "source": [
    "subset"
   ]
  },
  {
   "cell_type": "code",
   "execution_count": 19,
   "id": "1a6941a6",
   "metadata": {
    "scrolled": true
   },
   "outputs": [
    {
     "name": "stdout",
     "output_type": "stream",
     "text": [
      "Nilsson, Mr. August Ferdinand | male | 21.0 years old.\n",
      "Rosblom, Miss. Salli Helena | female | 2.0 years old.\n",
      "Mahon, Mr. John | male | nan years old.\n",
      "Rheims, Mr. George Alexander Lucien | male | nan years old.\n",
      "Karlsson, Mr. Einar Gervasius | male | 21.0 years old.\n",
      "Lyntakoff, Mr. Stanko | male | nan years old.\n",
      "Dyker, Mr. Adolf Fredrik | male | 23.0 years old.\n",
      "Christy, Mrs. (Alice Frances) | female | 45.0 years old.\n",
      "Sweet, Mr. George Frederick | male | 14.0 years old.\n",
      "Lingane, Mr. John | male | 61.0 years old.\n",
      "Ware, Mr. John James | male | 30.0 years old.\n",
      "Davidson, Mrs. Thornton (Orian Hays) | female | 27.0 years old.\n",
      "Thomas, Mrs. Alexander (Thamine Thelma\")\" | female | 16.0 years old.\n",
      "Thomas, Mr. Charles P | male | nan years old.\n",
      "Chaffee, Mrs. Herbert Fuller (Carrie Constance Toogood) | female | 47.0 years old.\n",
      "Dennis, Mr. William | male | 36.0 years old.\n",
      "Buckley, Miss. Katherine | female | 18.5 years old.\n",
      "Davies, Mrs. John Morgan (Elizabeth Agnes Mary White)  | female | 48.0 years old.\n",
      "de Messemaeker, Mr. Guillaume Joseph | male | 36.5 years old.\n",
      "Zakarian, Mr. Ortin | male | 27.0 years old.\n"
     ]
    }
   ],
   "source": [
    "for row in subset.itertuples():\n",
    "    \n",
    "    concatColumns(row)"
   ]
  },
  {
   "cell_type": "markdown",
   "id": "bcde3408",
   "metadata": {},
   "source": [
    "So we can see how useful a function can be."
   ]
  },
  {
   "cell_type": "markdown",
   "id": "53426a8a",
   "metadata": {},
   "source": [
    "We can also call functions from within functions. Let's modify our function a bit to make the names all caps."
   ]
  },
  {
   "cell_type": "code",
   "execution_count": 20,
   "id": "39d98715",
   "metadata": {},
   "outputs": [],
   "source": [
    "def concatColumns2 (row):\n",
    "    '''\n",
    "    This function concatenates several rows together into a sting.\n",
    "    \n",
    "    Parameters:\n",
    "        row = The row in the dataframe that is being concatenated.\n",
    "    '''\n",
    "    \n",
    "    \n",
    "    string = functionName(row[4]) + ' | ' + row[5] + ' | ' + str(row[6]) + ' years old.'\n",
    "    \n",
    "    print(string)"
   ]
  },
  {
   "cell_type": "code",
   "execution_count": 23,
   "id": "4bf9bd13",
   "metadata": {
    "scrolled": true
   },
   "outputs": [
    {
     "name": "stdout",
     "output_type": "stream",
     "text": [
      "Converting Nilsson, Mr. August Ferdinand to all caps!\n",
      "NILSSON, MR. AUGUST FERDINAND | male | 21.0 years old.\n",
      "Converting Rosblom, Miss. Salli Helena to all caps!\n",
      "ROSBLOM, MISS. SALLI HELENA | female | 2.0 years old.\n",
      "Converting Mahon, Mr. John to all caps!\n",
      "MAHON, MR. JOHN | male | nan years old.\n",
      "Converting Rheims, Mr. George Alexander Lucien to all caps!\n",
      "RHEIMS, MR. GEORGE ALEXANDER LUCIEN | male | nan years old.\n",
      "Converting Karlsson, Mr. Einar Gervasius to all caps!\n",
      "KARLSSON, MR. EINAR GERVASIUS | male | 21.0 years old.\n",
      "Converting Lyntakoff, Mr. Stanko to all caps!\n",
      "LYNTAKOFF, MR. STANKO | male | nan years old.\n",
      "Converting Dyker, Mr. Adolf Fredrik to all caps!\n",
      "DYKER, MR. ADOLF FREDRIK | male | 23.0 years old.\n",
      "Converting Christy, Mrs. (Alice Frances) to all caps!\n",
      "CHRISTY, MRS. (ALICE FRANCES) | female | 45.0 years old.\n",
      "Converting Sweet, Mr. George Frederick to all caps!\n",
      "SWEET, MR. GEORGE FREDERICK | male | 14.0 years old.\n",
      "Converting Lingane, Mr. John to all caps!\n",
      "LINGANE, MR. JOHN | male | 61.0 years old.\n",
      "Converting Ware, Mr. John James to all caps!\n",
      "WARE, MR. JOHN JAMES | male | 30.0 years old.\n",
      "Converting Davidson, Mrs. Thornton (Orian Hays) to all caps!\n",
      "DAVIDSON, MRS. THORNTON (ORIAN HAYS) | female | 27.0 years old.\n",
      "Converting Thomas, Mrs. Alexander (Thamine Thelma\")\" to all caps!\n",
      "THOMAS, MRS. ALEXANDER (THAMINE THELMA\")\" | female | 16.0 years old.\n",
      "Converting Thomas, Mr. Charles P to all caps!\n",
      "THOMAS, MR. CHARLES P | male | nan years old.\n",
      "Converting Chaffee, Mrs. Herbert Fuller (Carrie Constance Toogood) to all caps!\n",
      "CHAFFEE, MRS. HERBERT FULLER (CARRIE CONSTANCE TOOGOOD) | female | 47.0 years old.\n",
      "Converting Dennis, Mr. William to all caps!\n",
      "DENNIS, MR. WILLIAM | male | 36.0 years old.\n",
      "Converting Buckley, Miss. Katherine to all caps!\n",
      "BUCKLEY, MISS. KATHERINE | female | 18.5 years old.\n",
      "Converting Davies, Mrs. John Morgan (Elizabeth Agnes Mary White)  to all caps!\n",
      "DAVIES, MRS. JOHN MORGAN (ELIZABETH AGNES MARY WHITE)  | female | 48.0 years old.\n",
      "Converting de Messemaeker, Mr. Guillaume Joseph to all caps!\n",
      "DE MESSEMAEKER, MR. GUILLAUME JOSEPH | male | 36.5 years old.\n",
      "Converting Zakarian, Mr. Ortin to all caps!\n",
      "ZAKARIAN, MR. ORTIN | male | 27.0 years old.\n"
     ]
    }
   ],
   "source": [
    "for row in subset.itertuples():\n",
    "    \n",
    "    concatColumns2(row)"
   ]
  },
  {
   "cell_type": "markdown",
   "id": "49627892",
   "metadata": {},
   "source": [
    "So we can see how the functions can ver very useful."
   ]
  }
 ],
 "metadata": {
  "kernelspec": {
   "display_name": "Python 3 (ipykernel)",
   "language": "python",
   "name": "python3"
  },
  "language_info": {
   "codemirror_mode": {
    "name": "ipython",
    "version": 3
   },
   "file_extension": ".py",
   "mimetype": "text/x-python",
   "name": "python",
   "nbconvert_exporter": "python",
   "pygments_lexer": "ipython3",
   "version": "3.9.6"
  }
 },
 "nbformat": 4,
 "nbformat_minor": 5
}
